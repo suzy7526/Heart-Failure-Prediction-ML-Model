{
  "nbformat": 4,
  "nbformat_minor": 0,
  "metadata": {
    "colab": {
      "provenance": [],
      "include_colab_link": true
    },
    "kernelspec": {
      "name": "python3",
      "display_name": "Python 3"
    },
    "language_info": {
      "name": "python"
    }
  },
  "cells": [
    {
      "cell_type": "markdown",
      "metadata": {
        "id": "view-in-github",
        "colab_type": "text"
      },
      "source": [
        "<a href=\"https://colab.research.google.com/github/suzy7526/Heart-Failure-Prediction-ML-Model/blob/main/Hands_on_Model_Building_(Heart_Failure_Prediction).ipynb\" target=\"_parent\"><img src=\"https://colab.research.google.com/assets/colab-badge.svg\" alt=\"Open In Colab\"/></a>"
      ]
    },
    {
      "cell_type": "markdown",
      "source": [
        "Data Science Workshop at US-Korea Conference\n",
        "# *Hands-on Model Building (Fetal Health Classification)*\n",
        "(UKC 2023 Dallas, TX, August 5, 2023, Session 2)"
      ],
      "metadata": {
        "id": "eCaTON3DUxWl"
      }
    },
    {
      "cell_type": "markdown",
      "source": [
        "---"
      ],
      "metadata": {
        "id": "h8fFzu2dWaUn"
      }
    },
    {
      "cell_type": "markdown",
      "source": [
        "## Save a Copy First\n",
        "Make a copy of this notebook to your own local drive from the menu at top:\n",
        "* Click \"Copy to Drive\" button or\n",
        "* Click \"File\" -> \"Save a copy in Drive\"\n",
        "* Verify new file name at top begins with \"Copy of \"\n",
        "\n",
        "To test if you made a copy successfully run the code below by clicking on the code cell and then either press the play button to the left of the code, or use the keyboard shortcut \"Command/Ctrl+Enter\".\n",
        "\n",
        "If you get a warning that says \"**Warning: This notebook was not authored by Google.**\" then you did not successfully save a copy. Click Cancel and try again.\n"
      ],
      "metadata": {
        "id": "tiXMe1CwWdPp"
      }
    },
    {
      "cell_type": "code",
      "source": [
        "print('Hello World')"
      ],
      "metadata": {
        "id": "W-vQEYa6Wtrz",
        "colab": {
          "base_uri": "https://localhost:8080/"
        },
        "outputId": "ebc3b25a-887a-4ac9-cc6b-3cf1edef5929"
      },
      "execution_count": 2,
      "outputs": [
        {
          "output_type": "stream",
          "name": "stdout",
          "text": [
            "Hello World\n"
          ]
        }
      ]
    },
    {
      "cell_type": "markdown",
      "source": [
        "If successfully printed the message, you may close the other tab with the master copy file.  Then please proceed otherwise repeat the instructions above."
      ],
      "metadata": {
        "id": "f7hYL9k5WxXV"
      }
    },
    {
      "cell_type": "markdown",
      "source": [
        "---"
      ],
      "metadata": {
        "id": "Jd2t2JclXHcu"
      }
    },
    {
      "cell_type": "markdown",
      "source": [
        "# Heart Failure Prediction Dataset\n",
        "\n",
        "Cardiovascular diseases (CVDs) are the number 1 cause of death globally, taking an estimated 17.9 million lives each year, which accounts for 31% of all deaths worldwide.\n",
        "Heart failure is a common event caused by CVDs and this dataset contains 12 features that can be used to predict mortality by heart failure.\n",
        "\n",
        "Most cardiovascular diseases can be prevented by addressing behavioural risk factors such as tobacco use, unhealthy diet and obesity, physical inactivity and harmful use of alcohol using population-wide strategies.\n",
        "\n",
        "People with cardiovascular disease or who are at high cardiovascular risk (due to the presence of one or more risk factors such as hypertension, diabetes, hyperlipidaemia or already established disease) need early detection and management wherein a machine learning model can be of great help.\n",
        "\n",
        "--------\n",
        "Follow along this notebook as a guide to do EDA (Exploratory Data Analysis). At the end of the notebook, experiment and build your own ML models to classify the health of a fetus as Normal, Suspect, or Pathological using CTG data."
      ],
      "metadata": {
        "id": "GS6dN7gDf1ig"
      }
    },
    {
      "cell_type": "markdown",
      "source": [
        "## Import Packages and Helper Functions"
      ],
      "metadata": {
        "id": "SX5HuquDkCvU"
      }
    },
    {
      "cell_type": "code",
      "source": [
        "import numpy as np\n",
        "import pandas as pd\n",
        "import matplotlib.pyplot as plt\n",
        "import seaborn as sns\n",
        "from sklearn.model_selection import train_test_split\n",
        "from sklearn import preprocessing\n",
        "from sklearn.preprocessing import StandardScaler\n",
        "from sklearn.pipeline import Pipeline\n",
        "from sklearn.linear_model import LogisticRegression\n",
        "from sklearn.ensemble import RandomForestClassifier\n",
        "from sklearn.ensemble import GradientBoostingClassifier\n",
        "from sklearn.model_selection import StratifiedKFold\n",
        "from sklearn.model_selection import GridSearchCV\n",
        "from sklearn.model_selection import cross_val_score\n",
        "from sklearn.metrics import precision_score, recall_score, confusion_matrix, classification_report, accuracy_score, f1_score\n",
        "\n",
        "np.random.seed(0)"
      ],
      "metadata": {
        "id": "slgHJYcEkJix"
      },
      "execution_count": 3,
      "outputs": []
    },
    {
      "cell_type": "markdown",
      "source": [
        "## Load Data into Pandas DataFrame"
      ],
      "metadata": {
        "id": "bPW_MUYjkOrp"
      }
    },
    {
      "cell_type": "code",
      "source": [
        "url_file = 'https://raw.githubusercontent.com/gauravjain2/heart-failure-prediction/main/heart_failure_clinical_records_dataset.csv'\n",
        "data = pd.read_csv(url_file)"
      ],
      "metadata": {
        "id": "OOQcqXPZkNLd"
      },
      "execution_count": 4,
      "outputs": []
    },
    {
      "cell_type": "code",
      "source": [
        "data"
      ],
      "metadata": {
        "id": "-BqmUtwSkmtL",
        "colab": {
          "base_uri": "https://localhost:8080/",
          "height": 424
        },
        "outputId": "52aac1a4-8a38-49e4-e9b7-c5019f13b8bd"
      },
      "execution_count": 5,
      "outputs": [
        {
          "output_type": "execute_result",
          "data": {
            "text/plain": [
              "      age  anaemia  creatinine_phosphokinase  diabetes  ejection_fraction  \\\n",
              "0    75.0        0                       582         0                 20   \n",
              "1    55.0        0                      7861         0                 38   \n",
              "2    65.0        0                       146         0                 20   \n",
              "3    50.0        1                       111         0                 20   \n",
              "4    65.0        1                       160         1                 20   \n",
              "..    ...      ...                       ...       ...                ...   \n",
              "294  62.0        0                        61         1                 38   \n",
              "295  55.0        0                      1820         0                 38   \n",
              "296  45.0        0                      2060         1                 60   \n",
              "297  45.0        0                      2413         0                 38   \n",
              "298  50.0        0                       196         0                 45   \n",
              "\n",
              "     high_blood_pressure  platelets  serum_creatinine  serum_sodium  sex  \\\n",
              "0                      1  265000.00               1.9           130    1   \n",
              "1                      0  263358.03               1.1           136    1   \n",
              "2                      0  162000.00               1.3           129    1   \n",
              "3                      0  210000.00               1.9           137    1   \n",
              "4                      0  327000.00               2.7           116    0   \n",
              "..                   ...        ...               ...           ...  ...   \n",
              "294                    1  155000.00               1.1           143    1   \n",
              "295                    0  270000.00               1.2           139    0   \n",
              "296                    0  742000.00               0.8           138    0   \n",
              "297                    0  140000.00               1.4           140    1   \n",
              "298                    0  395000.00               1.6           136    1   \n",
              "\n",
              "     smoking  time  DEATH_EVENT  \n",
              "0          0     4            1  \n",
              "1          0     6            1  \n",
              "2          1     7            1  \n",
              "3          0     7            1  \n",
              "4          0     8            1  \n",
              "..       ...   ...          ...  \n",
              "294        1   270            0  \n",
              "295        0   271            0  \n",
              "296        0   278            0  \n",
              "297        1   280            0  \n",
              "298        1   285            0  \n",
              "\n",
              "[299 rows x 13 columns]"
            ],
            "text/html": [
              "\n",
              "  <div id=\"df-cd33b505-6896-4aa3-94d4-0c89691c4719\" class=\"colab-df-container\">\n",
              "    <div>\n",
              "<style scoped>\n",
              "    .dataframe tbody tr th:only-of-type {\n",
              "        vertical-align: middle;\n",
              "    }\n",
              "\n",
              "    .dataframe tbody tr th {\n",
              "        vertical-align: top;\n",
              "    }\n",
              "\n",
              "    .dataframe thead th {\n",
              "        text-align: right;\n",
              "    }\n",
              "</style>\n",
              "<table border=\"1\" class=\"dataframe\">\n",
              "  <thead>\n",
              "    <tr style=\"text-align: right;\">\n",
              "      <th></th>\n",
              "      <th>age</th>\n",
              "      <th>anaemia</th>\n",
              "      <th>creatinine_phosphokinase</th>\n",
              "      <th>diabetes</th>\n",
              "      <th>ejection_fraction</th>\n",
              "      <th>high_blood_pressure</th>\n",
              "      <th>platelets</th>\n",
              "      <th>serum_creatinine</th>\n",
              "      <th>serum_sodium</th>\n",
              "      <th>sex</th>\n",
              "      <th>smoking</th>\n",
              "      <th>time</th>\n",
              "      <th>DEATH_EVENT</th>\n",
              "    </tr>\n",
              "  </thead>\n",
              "  <tbody>\n",
              "    <tr>\n",
              "      <th>0</th>\n",
              "      <td>75.0</td>\n",
              "      <td>0</td>\n",
              "      <td>582</td>\n",
              "      <td>0</td>\n",
              "      <td>20</td>\n",
              "      <td>1</td>\n",
              "      <td>265000.00</td>\n",
              "      <td>1.9</td>\n",
              "      <td>130</td>\n",
              "      <td>1</td>\n",
              "      <td>0</td>\n",
              "      <td>4</td>\n",
              "      <td>1</td>\n",
              "    </tr>\n",
              "    <tr>\n",
              "      <th>1</th>\n",
              "      <td>55.0</td>\n",
              "      <td>0</td>\n",
              "      <td>7861</td>\n",
              "      <td>0</td>\n",
              "      <td>38</td>\n",
              "      <td>0</td>\n",
              "      <td>263358.03</td>\n",
              "      <td>1.1</td>\n",
              "      <td>136</td>\n",
              "      <td>1</td>\n",
              "      <td>0</td>\n",
              "      <td>6</td>\n",
              "      <td>1</td>\n",
              "    </tr>\n",
              "    <tr>\n",
              "      <th>2</th>\n",
              "      <td>65.0</td>\n",
              "      <td>0</td>\n",
              "      <td>146</td>\n",
              "      <td>0</td>\n",
              "      <td>20</td>\n",
              "      <td>0</td>\n",
              "      <td>162000.00</td>\n",
              "      <td>1.3</td>\n",
              "      <td>129</td>\n",
              "      <td>1</td>\n",
              "      <td>1</td>\n",
              "      <td>7</td>\n",
              "      <td>1</td>\n",
              "    </tr>\n",
              "    <tr>\n",
              "      <th>3</th>\n",
              "      <td>50.0</td>\n",
              "      <td>1</td>\n",
              "      <td>111</td>\n",
              "      <td>0</td>\n",
              "      <td>20</td>\n",
              "      <td>0</td>\n",
              "      <td>210000.00</td>\n",
              "      <td>1.9</td>\n",
              "      <td>137</td>\n",
              "      <td>1</td>\n",
              "      <td>0</td>\n",
              "      <td>7</td>\n",
              "      <td>1</td>\n",
              "    </tr>\n",
              "    <tr>\n",
              "      <th>4</th>\n",
              "      <td>65.0</td>\n",
              "      <td>1</td>\n",
              "      <td>160</td>\n",
              "      <td>1</td>\n",
              "      <td>20</td>\n",
              "      <td>0</td>\n",
              "      <td>327000.00</td>\n",
              "      <td>2.7</td>\n",
              "      <td>116</td>\n",
              "      <td>0</td>\n",
              "      <td>0</td>\n",
              "      <td>8</td>\n",
              "      <td>1</td>\n",
              "    </tr>\n",
              "    <tr>\n",
              "      <th>...</th>\n",
              "      <td>...</td>\n",
              "      <td>...</td>\n",
              "      <td>...</td>\n",
              "      <td>...</td>\n",
              "      <td>...</td>\n",
              "      <td>...</td>\n",
              "      <td>...</td>\n",
              "      <td>...</td>\n",
              "      <td>...</td>\n",
              "      <td>...</td>\n",
              "      <td>...</td>\n",
              "      <td>...</td>\n",
              "      <td>...</td>\n",
              "    </tr>\n",
              "    <tr>\n",
              "      <th>294</th>\n",
              "      <td>62.0</td>\n",
              "      <td>0</td>\n",
              "      <td>61</td>\n",
              "      <td>1</td>\n",
              "      <td>38</td>\n",
              "      <td>1</td>\n",
              "      <td>155000.00</td>\n",
              "      <td>1.1</td>\n",
              "      <td>143</td>\n",
              "      <td>1</td>\n",
              "      <td>1</td>\n",
              "      <td>270</td>\n",
              "      <td>0</td>\n",
              "    </tr>\n",
              "    <tr>\n",
              "      <th>295</th>\n",
              "      <td>55.0</td>\n",
              "      <td>0</td>\n",
              "      <td>1820</td>\n",
              "      <td>0</td>\n",
              "      <td>38</td>\n",
              "      <td>0</td>\n",
              "      <td>270000.00</td>\n",
              "      <td>1.2</td>\n",
              "      <td>139</td>\n",
              "      <td>0</td>\n",
              "      <td>0</td>\n",
              "      <td>271</td>\n",
              "      <td>0</td>\n",
              "    </tr>\n",
              "    <tr>\n",
              "      <th>296</th>\n",
              "      <td>45.0</td>\n",
              "      <td>0</td>\n",
              "      <td>2060</td>\n",
              "      <td>1</td>\n",
              "      <td>60</td>\n",
              "      <td>0</td>\n",
              "      <td>742000.00</td>\n",
              "      <td>0.8</td>\n",
              "      <td>138</td>\n",
              "      <td>0</td>\n",
              "      <td>0</td>\n",
              "      <td>278</td>\n",
              "      <td>0</td>\n",
              "    </tr>\n",
              "    <tr>\n",
              "      <th>297</th>\n",
              "      <td>45.0</td>\n",
              "      <td>0</td>\n",
              "      <td>2413</td>\n",
              "      <td>0</td>\n",
              "      <td>38</td>\n",
              "      <td>0</td>\n",
              "      <td>140000.00</td>\n",
              "      <td>1.4</td>\n",
              "      <td>140</td>\n",
              "      <td>1</td>\n",
              "      <td>1</td>\n",
              "      <td>280</td>\n",
              "      <td>0</td>\n",
              "    </tr>\n",
              "    <tr>\n",
              "      <th>298</th>\n",
              "      <td>50.0</td>\n",
              "      <td>0</td>\n",
              "      <td>196</td>\n",
              "      <td>0</td>\n",
              "      <td>45</td>\n",
              "      <td>0</td>\n",
              "      <td>395000.00</td>\n",
              "      <td>1.6</td>\n",
              "      <td>136</td>\n",
              "      <td>1</td>\n",
              "      <td>1</td>\n",
              "      <td>285</td>\n",
              "      <td>0</td>\n",
              "    </tr>\n",
              "  </tbody>\n",
              "</table>\n",
              "<p>299 rows × 13 columns</p>\n",
              "</div>\n",
              "    <div class=\"colab-df-buttons\">\n",
              "\n",
              "  <div class=\"colab-df-container\">\n",
              "    <button class=\"colab-df-convert\" onclick=\"convertToInteractive('df-cd33b505-6896-4aa3-94d4-0c89691c4719')\"\n",
              "            title=\"Convert this dataframe to an interactive table.\"\n",
              "            style=\"display:none;\">\n",
              "\n",
              "  <svg xmlns=\"http://www.w3.org/2000/svg\" height=\"24px\" viewBox=\"0 -960 960 960\">\n",
              "    <path d=\"M120-120v-720h720v720H120Zm60-500h600v-160H180v160Zm220 220h160v-160H400v160Zm0 220h160v-160H400v160ZM180-400h160v-160H180v160Zm440 0h160v-160H620v160ZM180-180h160v-160H180v160Zm440 0h160v-160H620v160Z\"/>\n",
              "  </svg>\n",
              "    </button>\n",
              "\n",
              "  <style>\n",
              "    .colab-df-container {\n",
              "      display:flex;\n",
              "      gap: 12px;\n",
              "    }\n",
              "\n",
              "    .colab-df-convert {\n",
              "      background-color: #E8F0FE;\n",
              "      border: none;\n",
              "      border-radius: 50%;\n",
              "      cursor: pointer;\n",
              "      display: none;\n",
              "      fill: #1967D2;\n",
              "      height: 32px;\n",
              "      padding: 0 0 0 0;\n",
              "      width: 32px;\n",
              "    }\n",
              "\n",
              "    .colab-df-convert:hover {\n",
              "      background-color: #E2EBFA;\n",
              "      box-shadow: 0px 1px 2px rgba(60, 64, 67, 0.3), 0px 1px 3px 1px rgba(60, 64, 67, 0.15);\n",
              "      fill: #174EA6;\n",
              "    }\n",
              "\n",
              "    .colab-df-buttons div {\n",
              "      margin-bottom: 4px;\n",
              "    }\n",
              "\n",
              "    [theme=dark] .colab-df-convert {\n",
              "      background-color: #3B4455;\n",
              "      fill: #D2E3FC;\n",
              "    }\n",
              "\n",
              "    [theme=dark] .colab-df-convert:hover {\n",
              "      background-color: #434B5C;\n",
              "      box-shadow: 0px 1px 3px 1px rgba(0, 0, 0, 0.15);\n",
              "      filter: drop-shadow(0px 1px 2px rgba(0, 0, 0, 0.3));\n",
              "      fill: #FFFFFF;\n",
              "    }\n",
              "  </style>\n",
              "\n",
              "    <script>\n",
              "      const buttonEl =\n",
              "        document.querySelector('#df-cd33b505-6896-4aa3-94d4-0c89691c4719 button.colab-df-convert');\n",
              "      buttonEl.style.display =\n",
              "        google.colab.kernel.accessAllowed ? 'block' : 'none';\n",
              "\n",
              "      async function convertToInteractive(key) {\n",
              "        const element = document.querySelector('#df-cd33b505-6896-4aa3-94d4-0c89691c4719');\n",
              "        const dataTable =\n",
              "          await google.colab.kernel.invokeFunction('convertToInteractive',\n",
              "                                                    [key], {});\n",
              "        if (!dataTable) return;\n",
              "\n",
              "        const docLinkHtml = 'Like what you see? Visit the ' +\n",
              "          '<a target=\"_blank\" href=https://colab.research.google.com/notebooks/data_table.ipynb>data table notebook</a>'\n",
              "          + ' to learn more about interactive tables.';\n",
              "        element.innerHTML = '';\n",
              "        dataTable['output_type'] = 'display_data';\n",
              "        await google.colab.output.renderOutput(dataTable, element);\n",
              "        const docLink = document.createElement('div');\n",
              "        docLink.innerHTML = docLinkHtml;\n",
              "        element.appendChild(docLink);\n",
              "      }\n",
              "    </script>\n",
              "  </div>\n",
              "\n",
              "\n",
              "<div id=\"df-774d7771-2785-4ac5-8824-6e950a006156\">\n",
              "  <button class=\"colab-df-quickchart\" onclick=\"quickchart('df-774d7771-2785-4ac5-8824-6e950a006156')\"\n",
              "            title=\"Suggest charts\"\n",
              "            style=\"display:none;\">\n",
              "\n",
              "<svg xmlns=\"http://www.w3.org/2000/svg\" height=\"24px\"viewBox=\"0 0 24 24\"\n",
              "     width=\"24px\">\n",
              "    <g>\n",
              "        <path d=\"M19 3H5c-1.1 0-2 .9-2 2v14c0 1.1.9 2 2 2h14c1.1 0 2-.9 2-2V5c0-1.1-.9-2-2-2zM9 17H7v-7h2v7zm4 0h-2V7h2v10zm4 0h-2v-4h2v4z\"/>\n",
              "    </g>\n",
              "</svg>\n",
              "  </button>\n",
              "\n",
              "<style>\n",
              "  .colab-df-quickchart {\n",
              "      --bg-color: #E8F0FE;\n",
              "      --fill-color: #1967D2;\n",
              "      --hover-bg-color: #E2EBFA;\n",
              "      --hover-fill-color: #174EA6;\n",
              "      --disabled-fill-color: #AAA;\n",
              "      --disabled-bg-color: #DDD;\n",
              "  }\n",
              "\n",
              "  [theme=dark] .colab-df-quickchart {\n",
              "      --bg-color: #3B4455;\n",
              "      --fill-color: #D2E3FC;\n",
              "      --hover-bg-color: #434B5C;\n",
              "      --hover-fill-color: #FFFFFF;\n",
              "      --disabled-bg-color: #3B4455;\n",
              "      --disabled-fill-color: #666;\n",
              "  }\n",
              "\n",
              "  .colab-df-quickchart {\n",
              "    background-color: var(--bg-color);\n",
              "    border: none;\n",
              "    border-radius: 50%;\n",
              "    cursor: pointer;\n",
              "    display: none;\n",
              "    fill: var(--fill-color);\n",
              "    height: 32px;\n",
              "    padding: 0;\n",
              "    width: 32px;\n",
              "  }\n",
              "\n",
              "  .colab-df-quickchart:hover {\n",
              "    background-color: var(--hover-bg-color);\n",
              "    box-shadow: 0 1px 2px rgba(60, 64, 67, 0.3), 0 1px 3px 1px rgba(60, 64, 67, 0.15);\n",
              "    fill: var(--button-hover-fill-color);\n",
              "  }\n",
              "\n",
              "  .colab-df-quickchart-complete:disabled,\n",
              "  .colab-df-quickchart-complete:disabled:hover {\n",
              "    background-color: var(--disabled-bg-color);\n",
              "    fill: var(--disabled-fill-color);\n",
              "    box-shadow: none;\n",
              "  }\n",
              "\n",
              "  .colab-df-spinner {\n",
              "    border: 2px solid var(--fill-color);\n",
              "    border-color: transparent;\n",
              "    border-bottom-color: var(--fill-color);\n",
              "    animation:\n",
              "      spin 1s steps(1) infinite;\n",
              "  }\n",
              "\n",
              "  @keyframes spin {\n",
              "    0% {\n",
              "      border-color: transparent;\n",
              "      border-bottom-color: var(--fill-color);\n",
              "      border-left-color: var(--fill-color);\n",
              "    }\n",
              "    20% {\n",
              "      border-color: transparent;\n",
              "      border-left-color: var(--fill-color);\n",
              "      border-top-color: var(--fill-color);\n",
              "    }\n",
              "    30% {\n",
              "      border-color: transparent;\n",
              "      border-left-color: var(--fill-color);\n",
              "      border-top-color: var(--fill-color);\n",
              "      border-right-color: var(--fill-color);\n",
              "    }\n",
              "    40% {\n",
              "      border-color: transparent;\n",
              "      border-right-color: var(--fill-color);\n",
              "      border-top-color: var(--fill-color);\n",
              "    }\n",
              "    60% {\n",
              "      border-color: transparent;\n",
              "      border-right-color: var(--fill-color);\n",
              "    }\n",
              "    80% {\n",
              "      border-color: transparent;\n",
              "      border-right-color: var(--fill-color);\n",
              "      border-bottom-color: var(--fill-color);\n",
              "    }\n",
              "    90% {\n",
              "      border-color: transparent;\n",
              "      border-bottom-color: var(--fill-color);\n",
              "    }\n",
              "  }\n",
              "</style>\n",
              "\n",
              "  <script>\n",
              "    async function quickchart(key) {\n",
              "      const quickchartButtonEl =\n",
              "        document.querySelector('#' + key + ' button');\n",
              "      quickchartButtonEl.disabled = true;  // To prevent multiple clicks.\n",
              "      quickchartButtonEl.classList.add('colab-df-spinner');\n",
              "      try {\n",
              "        const charts = await google.colab.kernel.invokeFunction(\n",
              "            'suggestCharts', [key], {});\n",
              "      } catch (error) {\n",
              "        console.error('Error during call to suggestCharts:', error);\n",
              "      }\n",
              "      quickchartButtonEl.classList.remove('colab-df-spinner');\n",
              "      quickchartButtonEl.classList.add('colab-df-quickchart-complete');\n",
              "    }\n",
              "    (() => {\n",
              "      let quickchartButtonEl =\n",
              "        document.querySelector('#df-774d7771-2785-4ac5-8824-6e950a006156 button');\n",
              "      quickchartButtonEl.style.display =\n",
              "        google.colab.kernel.accessAllowed ? 'block' : 'none';\n",
              "    })();\n",
              "  </script>\n",
              "</div>\n",
              "    </div>\n",
              "  </div>\n"
            ]
          },
          "metadata": {},
          "execution_count": 5
        }
      ]
    },
    {
      "cell_type": "code",
      "source": [
        "# information about a DataFrame including the index dtype and columns, non-null values and memory usage\n",
        "# https://pandas.pydata.org/docs/reference/api/pandas.DataFrame.info.html\n",
        "data.info()"
      ],
      "metadata": {
        "id": "K9V3h6rioNty",
        "colab": {
          "base_uri": "https://localhost:8080/"
        },
        "outputId": "8c584e75-5855-4d82-ad9c-1f489bc2bb37"
      },
      "execution_count": 6,
      "outputs": [
        {
          "output_type": "stream",
          "name": "stdout",
          "text": [
            "<class 'pandas.core.frame.DataFrame'>\n",
            "RangeIndex: 299 entries, 0 to 298\n",
            "Data columns (total 13 columns):\n",
            " #   Column                    Non-Null Count  Dtype  \n",
            "---  ------                    --------------  -----  \n",
            " 0   age                       299 non-null    float64\n",
            " 1   anaemia                   299 non-null    int64  \n",
            " 2   creatinine_phosphokinase  299 non-null    int64  \n",
            " 3   diabetes                  299 non-null    int64  \n",
            " 4   ejection_fraction         299 non-null    int64  \n",
            " 5   high_blood_pressure       299 non-null    int64  \n",
            " 6   platelets                 299 non-null    float64\n",
            " 7   serum_creatinine          299 non-null    float64\n",
            " 8   serum_sodium              299 non-null    int64  \n",
            " 9   sex                       299 non-null    int64  \n",
            " 10  smoking                   299 non-null    int64  \n",
            " 11  time                      299 non-null    int64  \n",
            " 12  DEATH_EVENT               299 non-null    int64  \n",
            "dtypes: float64(3), int64(10)\n",
            "memory usage: 30.5 KB\n"
          ]
        }
      ]
    },
    {
      "cell_type": "code",
      "source": [
        "# Generate descriptive statistics\n",
        "# https://pandas.pydata.org/docs/reference/api/pandas.DataFrame.describe.html#pandas.DataFrame.describe\n",
        "data.describe().T"
      ],
      "metadata": {
        "id": "DGdLrIw1oEHA",
        "colab": {
          "base_uri": "https://localhost:8080/",
          "height": 457
        },
        "outputId": "b980efec-7496-4547-c583-a249b369d7be"
      },
      "execution_count": 7,
      "outputs": [
        {
          "output_type": "execute_result",
          "data": {
            "text/plain": [
              "                          count           mean           std      min  \\\n",
              "age                       299.0      60.833893     11.894809     40.0   \n",
              "anaemia                   299.0       0.431438      0.496107      0.0   \n",
              "creatinine_phosphokinase  299.0     581.839465    970.287881     23.0   \n",
              "diabetes                  299.0       0.418060      0.494067      0.0   \n",
              "ejection_fraction         299.0      38.083612     11.834841     14.0   \n",
              "high_blood_pressure       299.0       0.351171      0.478136      0.0   \n",
              "platelets                 299.0  263358.029264  97804.236869  25100.0   \n",
              "serum_creatinine          299.0       1.393880      1.034510      0.5   \n",
              "serum_sodium              299.0     136.625418      4.412477    113.0   \n",
              "sex                       299.0       0.648829      0.478136      0.0   \n",
              "smoking                   299.0       0.321070      0.467670      0.0   \n",
              "time                      299.0     130.260870     77.614208      4.0   \n",
              "DEATH_EVENT               299.0       0.321070      0.467670      0.0   \n",
              "\n",
              "                               25%       50%       75%       max  \n",
              "age                           51.0      60.0      70.0      95.0  \n",
              "anaemia                        0.0       0.0       1.0       1.0  \n",
              "creatinine_phosphokinase     116.5     250.0     582.0    7861.0  \n",
              "diabetes                       0.0       0.0       1.0       1.0  \n",
              "ejection_fraction             30.0      38.0      45.0      80.0  \n",
              "high_blood_pressure            0.0       0.0       1.0       1.0  \n",
              "platelets                 212500.0  262000.0  303500.0  850000.0  \n",
              "serum_creatinine               0.9       1.1       1.4       9.4  \n",
              "serum_sodium                 134.0     137.0     140.0     148.0  \n",
              "sex                            0.0       1.0       1.0       1.0  \n",
              "smoking                        0.0       0.0       1.0       1.0  \n",
              "time                          73.0     115.0     203.0     285.0  \n",
              "DEATH_EVENT                    0.0       0.0       1.0       1.0  "
            ],
            "text/html": [
              "\n",
              "  <div id=\"df-f678f525-c603-47ad-a6bb-c32c58ebc086\" class=\"colab-df-container\">\n",
              "    <div>\n",
              "<style scoped>\n",
              "    .dataframe tbody tr th:only-of-type {\n",
              "        vertical-align: middle;\n",
              "    }\n",
              "\n",
              "    .dataframe tbody tr th {\n",
              "        vertical-align: top;\n",
              "    }\n",
              "\n",
              "    .dataframe thead th {\n",
              "        text-align: right;\n",
              "    }\n",
              "</style>\n",
              "<table border=\"1\" class=\"dataframe\">\n",
              "  <thead>\n",
              "    <tr style=\"text-align: right;\">\n",
              "      <th></th>\n",
              "      <th>count</th>\n",
              "      <th>mean</th>\n",
              "      <th>std</th>\n",
              "      <th>min</th>\n",
              "      <th>25%</th>\n",
              "      <th>50%</th>\n",
              "      <th>75%</th>\n",
              "      <th>max</th>\n",
              "    </tr>\n",
              "  </thead>\n",
              "  <tbody>\n",
              "    <tr>\n",
              "      <th>age</th>\n",
              "      <td>299.0</td>\n",
              "      <td>60.833893</td>\n",
              "      <td>11.894809</td>\n",
              "      <td>40.0</td>\n",
              "      <td>51.0</td>\n",
              "      <td>60.0</td>\n",
              "      <td>70.0</td>\n",
              "      <td>95.0</td>\n",
              "    </tr>\n",
              "    <tr>\n",
              "      <th>anaemia</th>\n",
              "      <td>299.0</td>\n",
              "      <td>0.431438</td>\n",
              "      <td>0.496107</td>\n",
              "      <td>0.0</td>\n",
              "      <td>0.0</td>\n",
              "      <td>0.0</td>\n",
              "      <td>1.0</td>\n",
              "      <td>1.0</td>\n",
              "    </tr>\n",
              "    <tr>\n",
              "      <th>creatinine_phosphokinase</th>\n",
              "      <td>299.0</td>\n",
              "      <td>581.839465</td>\n",
              "      <td>970.287881</td>\n",
              "      <td>23.0</td>\n",
              "      <td>116.5</td>\n",
              "      <td>250.0</td>\n",
              "      <td>582.0</td>\n",
              "      <td>7861.0</td>\n",
              "    </tr>\n",
              "    <tr>\n",
              "      <th>diabetes</th>\n",
              "      <td>299.0</td>\n",
              "      <td>0.418060</td>\n",
              "      <td>0.494067</td>\n",
              "      <td>0.0</td>\n",
              "      <td>0.0</td>\n",
              "      <td>0.0</td>\n",
              "      <td>1.0</td>\n",
              "      <td>1.0</td>\n",
              "    </tr>\n",
              "    <tr>\n",
              "      <th>ejection_fraction</th>\n",
              "      <td>299.0</td>\n",
              "      <td>38.083612</td>\n",
              "      <td>11.834841</td>\n",
              "      <td>14.0</td>\n",
              "      <td>30.0</td>\n",
              "      <td>38.0</td>\n",
              "      <td>45.0</td>\n",
              "      <td>80.0</td>\n",
              "    </tr>\n",
              "    <tr>\n",
              "      <th>high_blood_pressure</th>\n",
              "      <td>299.0</td>\n",
              "      <td>0.351171</td>\n",
              "      <td>0.478136</td>\n",
              "      <td>0.0</td>\n",
              "      <td>0.0</td>\n",
              "      <td>0.0</td>\n",
              "      <td>1.0</td>\n",
              "      <td>1.0</td>\n",
              "    </tr>\n",
              "    <tr>\n",
              "      <th>platelets</th>\n",
              "      <td>299.0</td>\n",
              "      <td>263358.029264</td>\n",
              "      <td>97804.236869</td>\n",
              "      <td>25100.0</td>\n",
              "      <td>212500.0</td>\n",
              "      <td>262000.0</td>\n",
              "      <td>303500.0</td>\n",
              "      <td>850000.0</td>\n",
              "    </tr>\n",
              "    <tr>\n",
              "      <th>serum_creatinine</th>\n",
              "      <td>299.0</td>\n",
              "      <td>1.393880</td>\n",
              "      <td>1.034510</td>\n",
              "      <td>0.5</td>\n",
              "      <td>0.9</td>\n",
              "      <td>1.1</td>\n",
              "      <td>1.4</td>\n",
              "      <td>9.4</td>\n",
              "    </tr>\n",
              "    <tr>\n",
              "      <th>serum_sodium</th>\n",
              "      <td>299.0</td>\n",
              "      <td>136.625418</td>\n",
              "      <td>4.412477</td>\n",
              "      <td>113.0</td>\n",
              "      <td>134.0</td>\n",
              "      <td>137.0</td>\n",
              "      <td>140.0</td>\n",
              "      <td>148.0</td>\n",
              "    </tr>\n",
              "    <tr>\n",
              "      <th>sex</th>\n",
              "      <td>299.0</td>\n",
              "      <td>0.648829</td>\n",
              "      <td>0.478136</td>\n",
              "      <td>0.0</td>\n",
              "      <td>0.0</td>\n",
              "      <td>1.0</td>\n",
              "      <td>1.0</td>\n",
              "      <td>1.0</td>\n",
              "    </tr>\n",
              "    <tr>\n",
              "      <th>smoking</th>\n",
              "      <td>299.0</td>\n",
              "      <td>0.321070</td>\n",
              "      <td>0.467670</td>\n",
              "      <td>0.0</td>\n",
              "      <td>0.0</td>\n",
              "      <td>0.0</td>\n",
              "      <td>1.0</td>\n",
              "      <td>1.0</td>\n",
              "    </tr>\n",
              "    <tr>\n",
              "      <th>time</th>\n",
              "      <td>299.0</td>\n",
              "      <td>130.260870</td>\n",
              "      <td>77.614208</td>\n",
              "      <td>4.0</td>\n",
              "      <td>73.0</td>\n",
              "      <td>115.0</td>\n",
              "      <td>203.0</td>\n",
              "      <td>285.0</td>\n",
              "    </tr>\n",
              "    <tr>\n",
              "      <th>DEATH_EVENT</th>\n",
              "      <td>299.0</td>\n",
              "      <td>0.321070</td>\n",
              "      <td>0.467670</td>\n",
              "      <td>0.0</td>\n",
              "      <td>0.0</td>\n",
              "      <td>0.0</td>\n",
              "      <td>1.0</td>\n",
              "      <td>1.0</td>\n",
              "    </tr>\n",
              "  </tbody>\n",
              "</table>\n",
              "</div>\n",
              "    <div class=\"colab-df-buttons\">\n",
              "\n",
              "  <div class=\"colab-df-container\">\n",
              "    <button class=\"colab-df-convert\" onclick=\"convertToInteractive('df-f678f525-c603-47ad-a6bb-c32c58ebc086')\"\n",
              "            title=\"Convert this dataframe to an interactive table.\"\n",
              "            style=\"display:none;\">\n",
              "\n",
              "  <svg xmlns=\"http://www.w3.org/2000/svg\" height=\"24px\" viewBox=\"0 -960 960 960\">\n",
              "    <path d=\"M120-120v-720h720v720H120Zm60-500h600v-160H180v160Zm220 220h160v-160H400v160Zm0 220h160v-160H400v160ZM180-400h160v-160H180v160Zm440 0h160v-160H620v160ZM180-180h160v-160H180v160Zm440 0h160v-160H620v160Z\"/>\n",
              "  </svg>\n",
              "    </button>\n",
              "\n",
              "  <style>\n",
              "    .colab-df-container {\n",
              "      display:flex;\n",
              "      gap: 12px;\n",
              "    }\n",
              "\n",
              "    .colab-df-convert {\n",
              "      background-color: #E8F0FE;\n",
              "      border: none;\n",
              "      border-radius: 50%;\n",
              "      cursor: pointer;\n",
              "      display: none;\n",
              "      fill: #1967D2;\n",
              "      height: 32px;\n",
              "      padding: 0 0 0 0;\n",
              "      width: 32px;\n",
              "    }\n",
              "\n",
              "    .colab-df-convert:hover {\n",
              "      background-color: #E2EBFA;\n",
              "      box-shadow: 0px 1px 2px rgba(60, 64, 67, 0.3), 0px 1px 3px 1px rgba(60, 64, 67, 0.15);\n",
              "      fill: #174EA6;\n",
              "    }\n",
              "\n",
              "    .colab-df-buttons div {\n",
              "      margin-bottom: 4px;\n",
              "    }\n",
              "\n",
              "    [theme=dark] .colab-df-convert {\n",
              "      background-color: #3B4455;\n",
              "      fill: #D2E3FC;\n",
              "    }\n",
              "\n",
              "    [theme=dark] .colab-df-convert:hover {\n",
              "      background-color: #434B5C;\n",
              "      box-shadow: 0px 1px 3px 1px rgba(0, 0, 0, 0.15);\n",
              "      filter: drop-shadow(0px 1px 2px rgba(0, 0, 0, 0.3));\n",
              "      fill: #FFFFFF;\n",
              "    }\n",
              "  </style>\n",
              "\n",
              "    <script>\n",
              "      const buttonEl =\n",
              "        document.querySelector('#df-f678f525-c603-47ad-a6bb-c32c58ebc086 button.colab-df-convert');\n",
              "      buttonEl.style.display =\n",
              "        google.colab.kernel.accessAllowed ? 'block' : 'none';\n",
              "\n",
              "      async function convertToInteractive(key) {\n",
              "        const element = document.querySelector('#df-f678f525-c603-47ad-a6bb-c32c58ebc086');\n",
              "        const dataTable =\n",
              "          await google.colab.kernel.invokeFunction('convertToInteractive',\n",
              "                                                    [key], {});\n",
              "        if (!dataTable) return;\n",
              "\n",
              "        const docLinkHtml = 'Like what you see? Visit the ' +\n",
              "          '<a target=\"_blank\" href=https://colab.research.google.com/notebooks/data_table.ipynb>data table notebook</a>'\n",
              "          + ' to learn more about interactive tables.';\n",
              "        element.innerHTML = '';\n",
              "        dataTable['output_type'] = 'display_data';\n",
              "        await google.colab.output.renderOutput(dataTable, element);\n",
              "        const docLink = document.createElement('div');\n",
              "        docLink.innerHTML = docLinkHtml;\n",
              "        element.appendChild(docLink);\n",
              "      }\n",
              "    </script>\n",
              "  </div>\n",
              "\n",
              "\n",
              "<div id=\"df-fbd83146-a0c6-40ca-9410-b1679c9c7950\">\n",
              "  <button class=\"colab-df-quickchart\" onclick=\"quickchart('df-fbd83146-a0c6-40ca-9410-b1679c9c7950')\"\n",
              "            title=\"Suggest charts\"\n",
              "            style=\"display:none;\">\n",
              "\n",
              "<svg xmlns=\"http://www.w3.org/2000/svg\" height=\"24px\"viewBox=\"0 0 24 24\"\n",
              "     width=\"24px\">\n",
              "    <g>\n",
              "        <path d=\"M19 3H5c-1.1 0-2 .9-2 2v14c0 1.1.9 2 2 2h14c1.1 0 2-.9 2-2V5c0-1.1-.9-2-2-2zM9 17H7v-7h2v7zm4 0h-2V7h2v10zm4 0h-2v-4h2v4z\"/>\n",
              "    </g>\n",
              "</svg>\n",
              "  </button>\n",
              "\n",
              "<style>\n",
              "  .colab-df-quickchart {\n",
              "      --bg-color: #E8F0FE;\n",
              "      --fill-color: #1967D2;\n",
              "      --hover-bg-color: #E2EBFA;\n",
              "      --hover-fill-color: #174EA6;\n",
              "      --disabled-fill-color: #AAA;\n",
              "      --disabled-bg-color: #DDD;\n",
              "  }\n",
              "\n",
              "  [theme=dark] .colab-df-quickchart {\n",
              "      --bg-color: #3B4455;\n",
              "      --fill-color: #D2E3FC;\n",
              "      --hover-bg-color: #434B5C;\n",
              "      --hover-fill-color: #FFFFFF;\n",
              "      --disabled-bg-color: #3B4455;\n",
              "      --disabled-fill-color: #666;\n",
              "  }\n",
              "\n",
              "  .colab-df-quickchart {\n",
              "    background-color: var(--bg-color);\n",
              "    border: none;\n",
              "    border-radius: 50%;\n",
              "    cursor: pointer;\n",
              "    display: none;\n",
              "    fill: var(--fill-color);\n",
              "    height: 32px;\n",
              "    padding: 0;\n",
              "    width: 32px;\n",
              "  }\n",
              "\n",
              "  .colab-df-quickchart:hover {\n",
              "    background-color: var(--hover-bg-color);\n",
              "    box-shadow: 0 1px 2px rgba(60, 64, 67, 0.3), 0 1px 3px 1px rgba(60, 64, 67, 0.15);\n",
              "    fill: var(--button-hover-fill-color);\n",
              "  }\n",
              "\n",
              "  .colab-df-quickchart-complete:disabled,\n",
              "  .colab-df-quickchart-complete:disabled:hover {\n",
              "    background-color: var(--disabled-bg-color);\n",
              "    fill: var(--disabled-fill-color);\n",
              "    box-shadow: none;\n",
              "  }\n",
              "\n",
              "  .colab-df-spinner {\n",
              "    border: 2px solid var(--fill-color);\n",
              "    border-color: transparent;\n",
              "    border-bottom-color: var(--fill-color);\n",
              "    animation:\n",
              "      spin 1s steps(1) infinite;\n",
              "  }\n",
              "\n",
              "  @keyframes spin {\n",
              "    0% {\n",
              "      border-color: transparent;\n",
              "      border-bottom-color: var(--fill-color);\n",
              "      border-left-color: var(--fill-color);\n",
              "    }\n",
              "    20% {\n",
              "      border-color: transparent;\n",
              "      border-left-color: var(--fill-color);\n",
              "      border-top-color: var(--fill-color);\n",
              "    }\n",
              "    30% {\n",
              "      border-color: transparent;\n",
              "      border-left-color: var(--fill-color);\n",
              "      border-top-color: var(--fill-color);\n",
              "      border-right-color: var(--fill-color);\n",
              "    }\n",
              "    40% {\n",
              "      border-color: transparent;\n",
              "      border-right-color: var(--fill-color);\n",
              "      border-top-color: var(--fill-color);\n",
              "    }\n",
              "    60% {\n",
              "      border-color: transparent;\n",
              "      border-right-color: var(--fill-color);\n",
              "    }\n",
              "    80% {\n",
              "      border-color: transparent;\n",
              "      border-right-color: var(--fill-color);\n",
              "      border-bottom-color: var(--fill-color);\n",
              "    }\n",
              "    90% {\n",
              "      border-color: transparent;\n",
              "      border-bottom-color: var(--fill-color);\n",
              "    }\n",
              "  }\n",
              "</style>\n",
              "\n",
              "  <script>\n",
              "    async function quickchart(key) {\n",
              "      const quickchartButtonEl =\n",
              "        document.querySelector('#' + key + ' button');\n",
              "      quickchartButtonEl.disabled = true;  // To prevent multiple clicks.\n",
              "      quickchartButtonEl.classList.add('colab-df-spinner');\n",
              "      try {\n",
              "        const charts = await google.colab.kernel.invokeFunction(\n",
              "            'suggestCharts', [key], {});\n",
              "      } catch (error) {\n",
              "        console.error('Error during call to suggestCharts:', error);\n",
              "      }\n",
              "      quickchartButtonEl.classList.remove('colab-df-spinner');\n",
              "      quickchartButtonEl.classList.add('colab-df-quickchart-complete');\n",
              "    }\n",
              "    (() => {\n",
              "      let quickchartButtonEl =\n",
              "        document.querySelector('#df-fbd83146-a0c6-40ca-9410-b1679c9c7950 button');\n",
              "      quickchartButtonEl.style.display =\n",
              "        google.colab.kernel.accessAllowed ? 'block' : 'none';\n",
              "    })();\n",
              "  </script>\n",
              "</div>\n",
              "    </div>\n",
              "  </div>\n"
            ]
          },
          "metadata": {},
          "execution_count": 7
        }
      ]
    },
    {
      "cell_type": "markdown",
      "source": [
        "This dataset contains the medical records of 299 patients who had heart failure, collected during their follow-up period, where each patient profile has 13 clinical features.\n",
        "\n",
        "Input Features:\n",
        "\n",
        "- **age** - age of patient\n",
        "- **anaemia** - Decrease of red blood cells or hemoglobin (boolean)\n",
        "- **creatinine_phosphokinase** - Level of the CPK enzyme in the blood (mcg/L)\n",
        "- **diabetes** - If the patient has diabetes (boolean)\n",
        "- **ejection_fraction** - Percentage of blood leaving the heart at each contraction (percentage)\n",
        "- **high_blood_pressure** - If the patient has hypertension (boolean)\n",
        "- **platelets** - Platelets in the blood (kiloplatelets/mL)\n",
        "- **serum_creatinine** - Level of serum creatinine in the blood (mg/dL)\n",
        "- **serum_sodium** - Level of serum sodium in the blood (mEq/L)\n",
        "- **sex** - Woman or man (binary)\n",
        "- **smoking** - If the patient smokes or not (boolean)\n",
        "- **time** - Follow-up period (days)\n",
        "\n",
        "\n",
        "Target Label:\n",
        "\n",
        "- **DEATH_EVENT** - If the patient deceased during the follow-up period (boolean)"
      ],
      "metadata": {
        "id": "qAPL7ssEo2Ye"
      }
    },
    {
      "cell_type": "code",
      "source": [
        "# Evaluating distributions of the features\n",
        "# https://pandas.pydata.org/docs/reference/api/pandas.DataFrame.hist.html\n",
        "hist_plot = data.hist(figsize = (20,20), color = \"#483D8B\")"
      ],
      "metadata": {
        "id": "XhBWU11stip-",
        "colab": {
          "base_uri": "https://localhost:8080/",
          "height": 1000
        },
        "outputId": "542252db-96bf-4a5a-a1f3-246cd6cbf5c9"
      },
      "execution_count": 8,
      "outputs": [
        {
          "output_type": "display_data",
          "data": {
            "text/plain": [
              "<Figure size 2000x2000 with 16 Axes>"
            ],
            "image/png": "[encoded data removed]"
          },
          "metadata": {}
        }
      ]
    },
    {
      "cell_type": "markdown",
      "source": [
        "### Team Discussion 1\n",
        "What can you tell from these histograms of each features?"
      ],
      "metadata": {
        "id": "QDIjjx_Zttqa"
      }
    },
    {
      "cell_type": "markdown",
      "source": [
        "age & serum_creatininine"
      ],
      "metadata": {
        "id": "0cifQW_HlVXB"
      }
    },
    {
      "cell_type": "code",
      "source": [
        "# generate heatmap to display correlations in data using seaborn\n",
        "# https://seaborn.pydata.org/generated/seaborn.heatmap.html\n",
        "corr = data.corr()\n",
        "fig, ax = plt.subplots(figsize=(15, 8))\n",
        "sns.heatmap(corr, annot=True, cmap=\"RdPu\");"
      ],
      "metadata": {
        "id": "GdhrB1QyoHwE",
        "colab": {
          "base_uri": "https://localhost:8080/",
          "height": 849
        },
        "outputId": "a9bd44b6-c79f-4041-d120-b88fb115c8dd"
      },
      "execution_count": 9,
      "outputs": [
        {
          "output_type": "display_data",
          "data": {
            "text/plain": [
              "<Figure size 1500x800 with 2 Axes>"
            ],
            "image/png": "[encoded data removed]"
          },
          "metadata": {}
        }
      ]
    },
    {
      "cell_type": "markdown",
      "source": [
        "### Team Discussion 2\n",
        "Take a close look at the above heatmap.\n",
        "\n",
        "\n",
        "- Which features seem to have the highest correlation with *DEATH_EVENT*?\n",
        " - Is it positive or negative correlation?\n",
        "\n",
        "- Which features seem to have the lowest correlation with *DEATH_EVENT*?\n",
        "\n",
        "\n",
        "\n",
        "Discuss with your team."
      ],
      "metadata": {
        "id": "PoaGm7-0qu-a"
      }
    },
    {
      "cell_type": "code",
      "source": [
        "# line plot to visualize correlation between two columns\n",
        "# https://seaborn.pydata.org/generated/seaborn.lineplot.html\n",
        "\n",
        "# Replace <Choose a Feature> with a feature name before running this cell\n",
        "select_feature = 'serum_sodium'\n",
        "sns.set_palette(palette='RdPu_r')\n",
        "sns.lineplot(x=select_feature, y='DEATH_EVENT', data=data, alpha=1.0)\n",
        "plt.title(f'{select_feature} and Death')"
      ],
      "metadata": {
        "id": "WtFSROwJp6e_",
        "colab": {
          "base_uri": "https://localhost:8080/",
          "height": 489
        },
        "outputId": "d6915737-ab5b-400f-806d-45b1dba4bb3e"
      },
      "execution_count": 10,
      "outputs": [
        {
          "output_type": "execute_result",
          "data": {
            "text/plain": [
              "Text(0.5, 1.0, 'serum_sodium and Death')"
            ]
          },
          "metadata": {},
          "execution_count": 10
        },
        {
          "output_type": "display_data",
          "data": {
            "text/plain": [
              "<Figure size 640x480 with 1 Axes>"
            ],
            "image/png": "[encoded data removed]"
          },
          "metadata": {}
        }
      ]
    },
    {
      "cell_type": "code",
      "source": [
        "select_feature = 'serum_creatinine'\n",
        "sns.set_palette(palette='RdPu_r')\n",
        "sns.lineplot(x=select_feature, y='DEATH_EVENT', data=data, alpha=1.0)\n",
        "plt.title(f'{select_feature} and Death')"
      ],
      "metadata": {
        "colab": {
          "base_uri": "https://localhost:8080/",
          "height": 489
        },
        "id": "v6VeUJzEnAe8",
        "outputId": "1e4c4214-3166-4a4f-abf5-0c978226e706"
      },
      "execution_count": 11,
      "outputs": [
        {
          "output_type": "execute_result",
          "data": {
            "text/plain": [
              "Text(0.5, 1.0, 'serum_creatinine and Death')"
            ]
          },
          "metadata": {},
          "execution_count": 11
        },
        {
          "output_type": "display_data",
          "data": {
            "text/plain": [
              "<Figure size 640x480 with 1 Axes>"
            ],
            "image/png": "[encoded data removed]"
          },
          "metadata": {}
        }
      ]
    },
    {
      "cell_type": "markdown",
      "source": [
        "---"
      ],
      "metadata": {
        "id": "x6PrYmVwZd1z"
      }
    },
    {
      "cell_type": "markdown",
      "source": [
        "## Prepare the Data"
      ],
      "metadata": {
        "id": "ohQE8hkntB53"
      }
    },
    {
      "cell_type": "markdown",
      "source": [
        "### Scale the data\n",
        "Feature scaling in machine learning is one of the most critical steps during the pre-processing of data before creating a machine learning model. Scaling can make a difference between a weak machine learning model and a better one. The most common techniques of feature scaling are Normalization and Standardization. Normalization is used when we want to bound our values between two numbers, typically, between [0,1] or [-1,1]. While Standardization transforms the data to have zero mean and a variance of 1, they make our data unitless."
      ],
      "metadata": {
        "id": "fsJc6UQNu4rH"
      }
    },
    {
      "cell_type": "code",
      "source": [
        "data.columns"
      ],
      "metadata": {
        "id": "VbN9RFmyiygI",
        "colab": {
          "base_uri": "https://localhost:8080/"
        },
        "outputId": "3f94ac22-8066-4008-8e0e-1b6be16427c2"
      },
      "execution_count": 12,
      "outputs": [
        {
          "output_type": "execute_result",
          "data": {
            "text/plain": [
              "Index(['age', 'anaemia', 'creatinine_phosphokinase', 'diabetes',\n",
              "       'ejection_fraction', 'high_blood_pressure', 'platelets',\n",
              "       'serum_creatinine', 'serum_sodium', 'sex', 'smoking', 'time',\n",
              "       'DEATH_EVENT'],\n",
              "      dtype='object')"
            ]
          },
          "metadata": {},
          "execution_count": 12
        }
      ]
    },
    {
      "cell_type": "code",
      "source": [
        "# Based on findings from earlier sections,\n",
        "# choose the columns you'd like to train your model on!\n",
        "columns = ['age', 'serum_sodium', 'time', 'sex', 'smoking']\n",
        "scale_X = StandardScaler()\n",
        "X =  pd.DataFrame(scale_X.fit_transform(data[columns],), columns = columns)"
      ],
      "metadata": {
        "id": "prRGvPRptHNm"
      },
      "execution_count": 13,
      "outputs": []
    },
    {
      "cell_type": "code",
      "source": [
        "X.head()"
      ],
      "metadata": {
        "id": "zwePCDshvISY",
        "colab": {
          "base_uri": "https://localhost:8080/",
          "height": 206
        },
        "outputId": "a958f5da-b3a0-40eb-fea7-bbd15c925d17"
      },
      "execution_count": 14,
      "outputs": [
        {
          "output_type": "execute_result",
          "data": {
            "text/plain": [
              "        age  serum_sodium      time       sex   smoking\n",
              "0  1.192945     -1.504036 -1.629502  0.735688 -0.687682\n",
              "1 -0.491279     -0.141976 -1.603691  0.735688 -0.687682\n",
              "2  0.350833     -1.731046 -1.590785  0.735688  1.454161\n",
              "3 -0.912335      0.085034 -1.590785  0.735688 -0.687682\n",
              "4  0.350833     -4.682176 -1.577879 -1.359272 -0.687682"
            ],
            "text/html": [
              "\n",
              "  <div id=\"df-8ce95b92-1983-4e04-a126-57e14c16e920\" class=\"colab-df-container\">\n",
              "    <div>\n",
              "<style scoped>\n",
              "    .dataframe tbody tr th:only-of-type {\n",
              "        vertical-align: middle;\n",
              "    }\n",
              "\n",
              "    .dataframe tbody tr th {\n",
              "        vertical-align: top;\n",
              "    }\n",
              "\n",
              "    .dataframe thead th {\n",
              "        text-align: right;\n",
              "    }\n",
              "</style>\n",
              "<table border=\"1\" class=\"dataframe\">\n",
              "  <thead>\n",
              "    <tr style=\"text-align: right;\">\n",
              "      <th></th>\n",
              "      <th>age</th>\n",
              "      <th>serum_sodium</th>\n",
              "      <th>time</th>\n",
              "      <th>sex</th>\n",
              "      <th>smoking</th>\n",
              "    </tr>\n",
              "  </thead>\n",
              "  <tbody>\n",
              "    <tr>\n",
              "      <th>0</th>\n",
              "      <td>1.192945</td>\n",
              "      <td>-1.504036</td>\n",
              "      <td>-1.629502</td>\n",
              "      <td>0.735688</td>\n",
              "      <td>-0.687682</td>\n",
              "    </tr>\n",
              "    <tr>\n",
              "      <th>1</th>\n",
              "      <td>-0.491279</td>\n",
              "      <td>-0.141976</td>\n",
              "      <td>-1.603691</td>\n",
              "      <td>0.735688</td>\n",
              "      <td>-0.687682</td>\n",
              "    </tr>\n",
              "    <tr>\n",
              "      <th>2</th>\n",
              "      <td>0.350833</td>\n",
              "      <td>-1.731046</td>\n",
              "      <td>-1.590785</td>\n",
              "      <td>0.735688</td>\n",
              "      <td>1.454161</td>\n",
              "    </tr>\n",
              "    <tr>\n",
              "      <th>3</th>\n",
              "      <td>-0.912335</td>\n",
              "      <td>0.085034</td>\n",
              "      <td>-1.590785</td>\n",
              "      <td>0.735688</td>\n",
              "      <td>-0.687682</td>\n",
              "    </tr>\n",
              "    <tr>\n",
              "      <th>4</th>\n",
              "      <td>0.350833</td>\n",
              "      <td>-4.682176</td>\n",
              "      <td>-1.577879</td>\n",
              "      <td>-1.359272</td>\n",
              "      <td>-0.687682</td>\n",
              "    </tr>\n",
              "  </tbody>\n",
              "</table>\n",
              "</div>\n",
              "    <div class=\"colab-df-buttons\">\n",
              "\n",
              "  <div class=\"colab-df-container\">\n",
              "    <button class=\"colab-df-convert\" onclick=\"convertToInteractive('df-8ce95b92-1983-4e04-a126-57e14c16e920')\"\n",
              "            title=\"Convert this dataframe to an interactive table.\"\n",
              "            style=\"display:none;\">\n",
              "\n",
              "  <svg xmlns=\"http://www.w3.org/2000/svg\" height=\"24px\" viewBox=\"0 -960 960 960\">\n",
              "    <path d=\"M120-120v-720h720v720H120Zm60-500h600v-160H180v160Zm220 220h160v-160H400v160Zm0 220h160v-160H400v160ZM180-400h160v-160H180v160Zm440 0h160v-160H620v160ZM180-180h160v-160H180v160Zm440 0h160v-160H620v160Z\"/>\n",
              "  </svg>\n",
              "    </button>\n",
              "\n",
              "  <style>\n",
              "    .colab-df-container {\n",
              "      display:flex;\n",
              "      gap: 12px;\n",
              "    }\n",
              "\n",
              "    .colab-df-convert {\n",
              "      background-color: #E8F0FE;\n",
              "      border: none;\n",
              "      border-radius: 50%;\n",
              "      cursor: pointer;\n",
              "      display: none;\n",
              "      fill: #1967D2;\n",
              "      height: 32px;\n",
              "      padding: 0 0 0 0;\n",
              "      width: 32px;\n",
              "    }\n",
              "\n",
              "    .colab-df-convert:hover {\n",
              "      background-color: #E2EBFA;\n",
              "      box-shadow: 0px 1px 2px rgba(60, 64, 67, 0.3), 0px 1px 3px 1px rgba(60, 64, 67, 0.15);\n",
              "      fill: #174EA6;\n",
              "    }\n",
              "\n",
              "    .colab-df-buttons div {\n",
              "      margin-bottom: 4px;\n",
              "    }\n",
              "\n",
              "    [theme=dark] .colab-df-convert {\n",
              "      background-color: #3B4455;\n",
              "      fill: #D2E3FC;\n",
              "    }\n",
              "\n",
              "    [theme=dark] .colab-df-convert:hover {\n",
              "      background-color: #434B5C;\n",
              "      box-shadow: 0px 1px 3px 1px rgba(0, 0, 0, 0.15);\n",
              "      filter: drop-shadow(0px 1px 2px rgba(0, 0, 0, 0.3));\n",
              "      fill: #FFFFFF;\n",
              "    }\n",
              "  </style>\n",
              "\n",
              "    <script>\n",
              "      const buttonEl =\n",
              "        document.querySelector('#df-8ce95b92-1983-4e04-a126-57e14c16e920 button.colab-df-convert');\n",
              "      buttonEl.style.display =\n",
              "        google.colab.kernel.accessAllowed ? 'block' : 'none';\n",
              "\n",
              "      async function convertToInteractive(key) {\n",
              "        const element = document.querySelector('#df-8ce95b92-1983-4e04-a126-57e14c16e920');\n",
              "        const dataTable =\n",
              "          await google.colab.kernel.invokeFunction('convertToInteractive',\n",
              "                                                    [key], {});\n",
              "        if (!dataTable) return;\n",
              "\n",
              "        const docLinkHtml = 'Like what you see? Visit the ' +\n",
              "          '<a target=\"_blank\" href=https://colab.research.google.com/notebooks/data_table.ipynb>data table notebook</a>'\n",
              "          + ' to learn more about interactive tables.';\n",
              "        element.innerHTML = '';\n",
              "        dataTable['output_type'] = 'display_data';\n",
              "        await google.colab.output.renderOutput(dataTable, element);\n",
              "        const docLink = document.createElement('div');\n",
              "        docLink.innerHTML = docLinkHtml;\n",
              "        element.appendChild(docLink);\n",
              "      }\n",
              "    </script>\n",
              "  </div>\n",
              "\n",
              "\n",
              "<div id=\"df-e31fe576-4370-4b7e-add0-495862dd0e5e\">\n",
              "  <button class=\"colab-df-quickchart\" onclick=\"quickchart('df-e31fe576-4370-4b7e-add0-495862dd0e5e')\"\n",
              "            title=\"Suggest charts\"\n",
              "            style=\"display:none;\">\n",
              "\n",
              "<svg xmlns=\"http://www.w3.org/2000/svg\" height=\"24px\"viewBox=\"0 0 24 24\"\n",
              "     width=\"24px\">\n",
              "    <g>\n",
              "        <path d=\"M19 3H5c-1.1 0-2 .9-2 2v14c0 1.1.9 2 2 2h14c1.1 0 2-.9 2-2V5c0-1.1-.9-2-2-2zM9 17H7v-7h2v7zm4 0h-2V7h2v10zm4 0h-2v-4h2v4z\"/>\n",
              "    </g>\n",
              "</svg>\n",
              "  </button>\n",
              "\n",
              "<style>\n",
              "  .colab-df-quickchart {\n",
              "      --bg-color: #E8F0FE;\n",
              "      --fill-color: #1967D2;\n",
              "      --hover-bg-color: #E2EBFA;\n",
              "      --hover-fill-color: #174EA6;\n",
              "      --disabled-fill-color: #AAA;\n",
              "      --disabled-bg-color: #DDD;\n",
              "  }\n",
              "\n",
              "  [theme=dark] .colab-df-quickchart {\n",
              "      --bg-color: #3B4455;\n",
              "      --fill-color: #D2E3FC;\n",
              "      --hover-bg-color: #434B5C;\n",
              "      --hover-fill-color: #FFFFFF;\n",
              "      --disabled-bg-color: #3B4455;\n",
              "      --disabled-fill-color: #666;\n",
              "  }\n",
              "\n",
              "  .colab-df-quickchart {\n",
              "    background-color: var(--bg-color);\n",
              "    border: none;\n",
              "    border-radius: 50%;\n",
              "    cursor: pointer;\n",
              "    display: none;\n",
              "    fill: var(--fill-color);\n",
              "    height: 32px;\n",
              "    padding: 0;\n",
              "    width: 32px;\n",
              "  }\n",
              "\n",
              "  .colab-df-quickchart:hover {\n",
              "    background-color: var(--hover-bg-color);\n",
              "    box-shadow: 0 1px 2px rgba(60, 64, 67, 0.3), 0 1px 3px 1px rgba(60, 64, 67, 0.15);\n",
              "    fill: var(--button-hover-fill-color);\n",
              "  }\n",
              "\n",
              "  .colab-df-quickchart-complete:disabled,\n",
              "  .colab-df-quickchart-complete:disabled:hover {\n",
              "    background-color: var(--disabled-bg-color);\n",
              "    fill: var(--disabled-fill-color);\n",
              "    box-shadow: none;\n",
              "  }\n",
              "\n",
              "  .colab-df-spinner {\n",
              "    border: 2px solid var(--fill-color);\n",
              "    border-color: transparent;\n",
              "    border-bottom-color: var(--fill-color);\n",
              "    animation:\n",
              "      spin 1s steps(1) infinite;\n",
              "  }\n",
              "\n",
              "  @keyframes spin {\n",
              "    0% {\n",
              "      border-color: transparent;\n",
              "      border-bottom-color: var(--fill-color);\n",
              "      border-left-color: var(--fill-color);\n",
              "    }\n",
              "    20% {\n",
              "      border-color: transparent;\n",
              "      border-left-color: var(--fill-color);\n",
              "      border-top-color: var(--fill-color);\n",
              "    }\n",
              "    30% {\n",
              "      border-color: transparent;\n",
              "      border-left-color: var(--fill-color);\n",
              "      border-top-color: var(--fill-color);\n",
              "      border-right-color: var(--fill-color);\n",
              "    }\n",
              "    40% {\n",
              "      border-color: transparent;\n",
              "      border-right-color: var(--fill-color);\n",
              "      border-top-color: var(--fill-color);\n",
              "    }\n",
              "    60% {\n",
              "      border-color: transparent;\n",
              "      border-right-color: var(--fill-color);\n",
              "    }\n",
              "    80% {\n",
              "      border-color: transparent;\n",
              "      border-right-color: var(--fill-color);\n",
              "      border-bottom-color: var(--fill-color);\n",
              "    }\n",
              "    90% {\n",
              "      border-color: transparent;\n",
              "      border-bottom-color: var(--fill-color);\n",
              "    }\n",
              "  }\n",
              "</style>\n",
              "\n",
              "  <script>\n",
              "    async function quickchart(key) {\n",
              "      const quickchartButtonEl =\n",
              "        document.querySelector('#' + key + ' button');\n",
              "      quickchartButtonEl.disabled = true;  // To prevent multiple clicks.\n",
              "      quickchartButtonEl.classList.add('colab-df-spinner');\n",
              "      try {\n",
              "        const charts = await google.colab.kernel.invokeFunction(\n",
              "            'suggestCharts', [key], {});\n",
              "      } catch (error) {\n",
              "        console.error('Error during call to suggestCharts:', error);\n",
              "      }\n",
              "      quickchartButtonEl.classList.remove('colab-df-spinner');\n",
              "      quickchartButtonEl.classList.add('colab-df-quickchart-complete');\n",
              "    }\n",
              "    (() => {\n",
              "      let quickchartButtonEl =\n",
              "        document.querySelector('#df-e31fe576-4370-4b7e-add0-495862dd0e5e button');\n",
              "      quickchartButtonEl.style.display =\n",
              "        google.colab.kernel.accessAllowed ? 'block' : 'none';\n",
              "    })();\n",
              "  </script>\n",
              "</div>\n",
              "    </div>\n",
              "  </div>\n"
            ]
          },
          "metadata": {},
          "execution_count": 14
        }
      ]
    },
    {
      "cell_type": "code",
      "source": [
        "# This will be the ground truth label (or target variable)\n",
        "y = data[\"DEATH_EVENT\"]\n",
        "y.head()"
      ],
      "metadata": {
        "id": "LC1jBfAdvKcm",
        "colab": {
          "base_uri": "https://localhost:8080/"
        },
        "outputId": "4d980383-5c2e-499a-dc7c-cecfea4c5fda"
      },
      "execution_count": 15,
      "outputs": [
        {
          "output_type": "execute_result",
          "data": {
            "text/plain": [
              "0    1\n",
              "1    1\n",
              "2    1\n",
              "3    1\n",
              "4    1\n",
              "Name: DEATH_EVENT, dtype: int64"
            ]
          },
          "metadata": {},
          "execution_count": 15
        }
      ]
    },
    {
      "cell_type": "markdown",
      "source": [
        "### Train/Test Split and Cross-Validation Methods\n",
        "- Train/Test Split: To have unknown datapoints to test the data rather than testing with the same points with which the model was trained. This helps capture the model performance much better.\n",
        "- Cross-Validation: Sometimes called rotation estimation or out-of-sample testing, cross-validation is any of various similar model validation techniques for assessing how the results of a statistical analysis will generalize to an independent data set.\n",
        "\n",
        "(Taken from https://www.kaggle.com/code/pariaagharabi/step-by-step-fetal-health-prediction-99-detailed)"
      ],
      "metadata": {
        "id": "n7sNYFktvbxv"
      }
    },
    {
      "cell_type": "code",
      "source": [
        "# https://scikit-learn.org/stable/modules/generated/sklearn.model_selection.train_test_split.html\n",
        "# Read about stratification -> (https://scikit-learn.org/stable/modules/cross_validation.html#stratification)\n",
        "X_train, X_test, y_train, y_test = train_test_split(X, y, test_size = 0.3, random_state = 42, stratify = y)"
      ],
      "metadata": {
        "id": "PEmzBUkdvL1Z"
      },
      "execution_count": 16,
      "outputs": []
    },
    {
      "cell_type": "code",
      "source": [
        "X_train.shape, X_test.shape, y_train.shape, y_test.shape"
      ],
      "metadata": {
        "id": "FVVBLQhOvljf",
        "colab": {
          "base_uri": "https://localhost:8080/"
        },
        "outputId": "c0bbb2cf-9115-4951-ddc5-7532989321f6"
      },
      "execution_count": 17,
      "outputs": [
        {
          "output_type": "execute_result",
          "data": {
            "text/plain": [
              "((209, 5), (90, 5), (209,), (90,))"
            ]
          },
          "metadata": {},
          "execution_count": 17
        }
      ]
    },
    {
      "cell_type": "markdown",
      "source": [
        "---"
      ],
      "metadata": {
        "id": "xpvhFqPxZgA8"
      }
    },
    {
      "cell_type": "markdown",
      "source": [
        "## Build Machine Learning Models\n",
        "Now that you have the data to train the models on, you can build your own models with your team by following our fill-in-the-blank style guided code. Suggested solution for each of the three models below are also provided at the end.\n",
        "1. Logistic Regression\n",
        "2. Random Forest\n",
        "3. Gradient Boosting"
      ],
      "metadata": {
        "id": "vxysrCbzvvyx"
      }
    },
    {
      "cell_type": "markdown",
      "source": [
        "### Logistic Regression (LR)"
      ],
      "metadata": {
        "id": "Zg_G9IiZv7mb"
      }
    },
    {
      "cell_type": "markdown",
      "source": [
        "#### Guided Model Building\n"
      ],
      "metadata": {
        "id": "FxlMF8ZQvXQ7"
      }
    },
    {
      "cell_type": "code",
      "source": [
        "# First, build the base model with default parameters:\n",
        "# Replace the two ?s with train data X and labels y\n",
        "logistic_regression = LogisticRegression()\n",
        "logistic_regression_model = logistic_regression.fit( X_train , y_train )"
      ],
      "metadata": {
        "id": "ZJUifqyE0yfY"
      },
      "execution_count": 18,
      "outputs": []
    },
    {
      "cell_type": "code",
      "source": [
        "# Calculate the mean accuracy from using our model on the given test data X and labels y\n",
        "print(f\"Baseline Logistic Regression: {round(logistic_regression_model.score(X_test, y_test), 3)}\")"
      ],
      "metadata": {
        "id": "WP_N0_o-1zkZ",
        "colab": {
          "base_uri": "https://localhost:8080/"
        },
        "outputId": "e86f578e-8af1-4d86-d383-d87cd3ed7b7a"
      },
      "execution_count": 19,
      "outputs": [
        {
          "output_type": "stream",
          "name": "stdout",
          "text": [
            "Baseline Logistic Regression: 0.822\n"
          ]
        }
      ]
    },
    {
      "cell_type": "code",
      "source": [
        "# Run the model on test data\n",
        "pred_logistic_regression = logistic_regression_model.predict( X_test )\n",
        "\n",
        "# See the model\n",
        "pred_logistic_regression"
      ],
      "metadata": {
        "id": "4EvulkBO1zX9",
        "colab": {
          "base_uri": "https://localhost:8080/"
        },
        "outputId": "789e12f9-f95d-4b77-dc24-45b6d31070a9"
      },
      "execution_count": 20,
      "outputs": [
        {
          "output_type": "execute_result",
          "data": {
            "text/plain": [
              "array([0, 0, 1, 0, 0, 0, 0, 0, 0, 0, 0, 0, 1, 0, 1, 0, 0, 0, 0, 0, 0, 1,\n",
              "       0, 1, 0, 1, 0, 0, 0, 0, 0, 0, 0, 1, 0, 0, 0, 0, 0, 0, 0, 0, 0, 0,\n",
              "       0, 0, 0, 0, 0, 0, 1, 0, 0, 0, 1, 0, 0, 1, 0, 0, 0, 0, 1, 0, 1, 0,\n",
              "       0, 0, 1, 0, 0, 0, 0, 1, 0, 1, 0, 0, 0, 0, 0, 0, 1, 0, 0, 0, 1, 0,\n",
              "       1, 1])"
            ]
          },
          "metadata": {},
          "execution_count": 20
        }
      ]
    },
    {
      "cell_type": "code",
      "source": [
        "# Print the Classification Report by comparing the test label\n",
        "# and the above model that predicted the labels\n",
        "# https://scikit-learn.org/stable/modules/generated/sklearn.metrics.classification_report.html\n",
        "\n",
        "print(\"Classification Report\")\n",
        "print(classification_report( y_test, pred_logistic_regression))"
      ],
      "metadata": {
        "id": "TsoWiIv40yfa",
        "colab": {
          "base_uri": "https://localhost:8080/"
        },
        "outputId": "32b1f305-e4cd-4235-ad46-f417b9c3af5c"
      },
      "execution_count": 21,
      "outputs": [
        {
          "output_type": "stream",
          "name": "stdout",
          "text": [
            "Classification Report\n",
            "              precision    recall  f1-score   support\n",
            "\n",
            "           0       0.82      0.95      0.88        61\n",
            "           1       0.84      0.55      0.67        29\n",
            "\n",
            "    accuracy                           0.82        90\n",
            "   macro avg       0.83      0.75      0.77        90\n",
            "weighted avg       0.83      0.82      0.81        90\n",
            "\n"
          ]
        }
      ]
    },
    {
      "cell_type": "code",
      "source": [
        "# Let's tune hyperparameters by using cross-validation model StratifiedKFold\n",
        "# Set the n_splits to an integer of 2 or greater\n",
        "# Set random_state to an integer of 0 or greater\n",
        "# https://scikit-learn.org/stable/modules/generated/sklearn.model_selection.StratifiedKFold.html\n",
        "\n",
        "cv_method = StratifiedKFold(n_splits= 5 , shuffle=True, random_state= 1 )"
      ],
      "metadata": {
        "id": "0HraoaF90yfa"
      },
      "execution_count": 22,
      "outputs": []
    },
    {
      "cell_type": "code",
      "source": [
        "# Cross validate Logistic Regression model\n",
        "# See documentation to determine parameters to replace ?s with\n",
        "# https://scikit-learn.org/stable/modules/generated/sklearn.model_selection.cross_val_score.html\n",
        "scores_Logistic = cross_val_score(\n",
        "    logistic_regression,\n",
        "    X =  X_test,\n",
        "    y = pred_logistic_regression,\n",
        "    cv = None,\n",
        "    n_jobs = None ,\n",
        "    scoring = \"accuracy\"\n",
        "    )"
      ],
      "metadata": {
        "id": "XlTd03F70yfa"
      },
      "execution_count": 23,
      "outputs": []
    },
    {
      "cell_type": "code",
      "source": [
        "print(f\"Scores(Cross validate) for Logistic Regression model:\\n{scores_Logistic}\")\n",
        "print(f\"Cross Validation Means: {round(scores_Logistic.mean(), 3)}\")\n",
        "print(f\"Cross Validation Standard Deviation: {round(scores_Logistic.std(), 3)}\")"
      ],
      "metadata": {
        "id": "CZ9bNj7o5LgI",
        "colab": {
          "base_uri": "https://localhost:8080/"
        },
        "outputId": "dfab8c08-9404-4cd2-a6f3-8e4e77642760"
      },
      "execution_count": 24,
      "outputs": [
        {
          "output_type": "stream",
          "name": "stdout",
          "text": [
            "Scores(Cross validate) for Logistic Regression model:\n",
            "[1.         1.         0.88888889 0.94444444 0.94444444]\n",
            "Cross Validation Means: 0.956\n",
            "Cross Validation Standard Deviation: 0.042\n"
          ]
        }
      ]
    },
    {
      "cell_type": "code",
      "source": [
        "# Find what parameters are currently used by the model\n",
        "# You can read more about each parameter in sklearn's model documentation\n",
        "# https://scikit-learn.org/stable/modules/generated/sklearn.linear_model.LogisticRegression.html\n",
        "logistic_regression.get_params()"
      ],
      "metadata": {
        "id": "feoRNV6p0yfa",
        "colab": {
          "base_uri": "https://localhost:8080/"
        },
        "outputId": "9bfd6c3c-e9fb-4f40-ac69-c9b393db609a"
      },
      "execution_count": 25,
      "outputs": [
        {
          "output_type": "execute_result",
          "data": {
            "text/plain": [
              "{'C': 1.0,\n",
              " 'class_weight': None,\n",
              " 'dual': False,\n",
              " 'fit_intercept': True,\n",
              " 'intercept_scaling': 1,\n",
              " 'l1_ratio': None,\n",
              " 'max_iter': 100,\n",
              " 'multi_class': 'auto',\n",
              " 'n_jobs': None,\n",
              " 'penalty': 'l2',\n",
              " 'random_state': None,\n",
              " 'solver': 'lbfgs',\n",
              " 'tol': 0.0001,\n",
              " 'verbose': 0,\n",
              " 'warm_start': False}"
            ]
          },
          "metadata": {},
          "execution_count": 25
        }
      ]
    },
    {
      "cell_type": "code",
      "source": [
        "# Set parameters for Grid Search\n",
        "# We have provided some parameters as a placeholder. Feel free to change values!\n",
        "params_LR = {\"tol\": [0.0001,0.0002,0.0003],\n",
        "            \"C\": [0.01, 0.1, 1, 10, 100],\n",
        "            \"intercept_scaling\": [1, 2, 3, 4]\n",
        "            }"
      ],
      "metadata": {
        "id": "SiGC0kVW0yfa"
      },
      "execution_count": 26,
      "outputs": []
    },
    {
      "cell_type": "code",
      "source": [
        "# GridSearchCV is the process of performing hyperparameter tuning in order to determine the optimal values for a given model.\n",
        "# https://www.mygreatlearning.com/blog/gridsearchcv/\n",
        "# https://scikit-learn.org/stable/modules/generated/sklearn.model_selection.GridSearchCV.html\n",
        "\n",
        "GridSearchCV_LR = GridSearchCV(estimator=LogisticRegression(),\n",
        "                                param_grid= params_LR , # we defined it in the above cell\n",
        "                                cv=cv_method , # we defined this method a few cells up\n",
        "                                verbose=1,\n",
        "                                n_jobs= 2 , # number of jobs to run in parallel\n",
        "                                scoring=\"accuracy\",\n",
        "                                return_train_score=True\n",
        "                                )"
      ],
      "metadata": {
        "id": "qSP82J3X0yfa"
      },
      "execution_count": 27,
      "outputs": []
    },
    {
      "cell_type": "code",
      "source": [
        "# Fit model with train data and train label\n",
        "GridSearchCV_LR.fit( X_train, y_train );"
      ],
      "metadata": {
        "id": "Rrn5pAIe0yfa",
        "colab": {
          "base_uri": "https://localhost:8080/"
        },
        "outputId": "db5051b3-6e2f-4876-f9e5-e31d8795ae5a"
      },
      "execution_count": 28,
      "outputs": [
        {
          "output_type": "stream",
          "name": "stdout",
          "text": [
            "Fitting 5 folds for each of 60 candidates, totalling 300 fits\n"
          ]
        }
      ]
    },
    {
      "cell_type": "code",
      "source": [
        "# Find the best hyperparameters from the Grid Search results\n",
        "# Use the resulting parameters in the next cell for the best-scoring predictions\n",
        "best_estimator_LR = GridSearchCV_LR.best_estimator_\n",
        "print(f\"Best estimator for LR model:\\n{best_estimator_LR}\")\n",
        "best_params_LR = GridSearchCV_LR.best_params_\n",
        "print(f\"Best parameter values for LR model:\\n{best_params_LR}\")\n",
        "\n",
        "print(f\"Best score for LR model: {round(GridSearchCV_LR.best_score_, 3)}\")"
      ],
      "metadata": {
        "id": "vd2c7-LX0yfa",
        "colab": {
          "base_uri": "https://localhost:8080/"
        },
        "outputId": "baed50d7-4693-46e0-fe23-3c80a3a5ef9e"
      },
      "execution_count": 29,
      "outputs": [
        {
          "output_type": "stream",
          "name": "stdout",
          "text": [
            "Best estimator for LR model:\n",
            "LogisticRegression(C=10)\n",
            "Best parameter values for LR model:\n",
            "{'C': 10, 'intercept_scaling': 1, 'tol': 0.0001}\n",
            "Best score for LR model: 0.818\n"
          ]
        }
      ]
    },
    {
      "cell_type": "code",
      "source": [
        "# Replace the values with the best parameters outputted in the previous cell\n",
        "# If you used other hyperparameters, change accordingly!\n",
        "\n",
        "logistic_regression = LogisticRegression(\n",
        "    C= 10 ,\n",
        "    intercept_scaling= 1,\n",
        "    tol= 0.0001 ,\n",
        "    random_state=42\n",
        "    )"
      ],
      "metadata": {
        "id": "rHqwiH790yfb"
      },
      "execution_count": 30,
      "outputs": []
    },
    {
      "cell_type": "code",
      "source": [
        "# Let's fit the models again using our train data and train labels\n",
        "logistic_regression_model = logistic_regression.fit( X_train, y_train)\n",
        "pred_logistic_regression = logistic_regression_model.predict( X_test)"
      ],
      "metadata": {
        "id": "P9x7l9fl9UPx"
      },
      "execution_count": 31,
      "outputs": []
    },
    {
      "cell_type": "code",
      "source": [
        "# Finally, print the scores using your test labels and predictions\n",
        "\n",
        "print(\"Classification Report\")\n",
        "print(classification_report( y_test, pred_logistic_regression ))"
      ],
      "metadata": {
        "id": "GnxyZcv50yfb",
        "colab": {
          "base_uri": "https://localhost:8080/"
        },
        "outputId": "9fc3144b-7d45-4d51-90b6-0ba6f30abfe6"
      },
      "execution_count": 32,
      "outputs": [
        {
          "output_type": "stream",
          "name": "stdout",
          "text": [
            "Classification Report\n",
            "              precision    recall  f1-score   support\n",
            "\n",
            "           0       0.81      0.93      0.87        61\n",
            "           1       0.80      0.55      0.65        29\n",
            "\n",
            "    accuracy                           0.81        90\n",
            "   macro avg       0.81      0.74      0.76        90\n",
            "weighted avg       0.81      0.81      0.80        90\n",
            "\n"
          ]
        }
      ]
    },
    {
      "cell_type": "markdown",
      "source": [
        "### Random Forest (RF)\n"
      ],
      "metadata": {
        "id": "FeGzi3LHCTHR"
      }
    },
    {
      "cell_type": "markdown",
      "source": [
        "#### Guided Model Building"
      ],
      "metadata": {
        "id": "xyYhuyf1_thZ"
      }
    },
    {
      "cell_type": "code",
      "source": [
        "# First, build the base model with default parameters:\n",
        "# Replace the two ?s with train data X and labels y\n",
        "random_forest = RandomForestClassifier()\n",
        "random_forest_model = random_forest.fit(X_train, y_train)"
      ],
      "metadata": {
        "id": "PEHpsAqZF_Wn"
      },
      "execution_count": 33,
      "outputs": []
    },
    {
      "cell_type": "code",
      "source": [
        "print(f\"Baseline Random Forest: {round(random_forest_model.score(X_test, y_test), 3)}\")"
      ],
      "metadata": {
        "id": "sNVP2vQ4GNRw",
        "colab": {
          "base_uri": "https://localhost:8080/"
        },
        "outputId": "6766600f-e65e-48dc-f900-a45c4650e861"
      },
      "execution_count": 34,
      "outputs": [
        {
          "output_type": "stream",
          "name": "stdout",
          "text": [
            "Baseline Random Forest: 0.833\n"
          ]
        }
      ]
    },
    {
      "cell_type": "code",
      "source": [
        "# Run the model on test data\n",
        "pred_random_forest = random_forest_model.predict(X_test )\n",
        "\n",
        "# See the model\n",
        "pred_random_forest"
      ],
      "metadata": {
        "id": "YMKYXopbGNMm",
        "colab": {
          "base_uri": "https://localhost:8080/"
        },
        "outputId": "165b0fd8-9437-4fdc-f753-4c7a8bd58f4d"
      },
      "execution_count": 35,
      "outputs": [
        {
          "output_type": "execute_result",
          "data": {
            "text/plain": [
              "array([0, 0, 1, 0, 0, 0, 0, 0, 0, 0, 0, 0, 1, 0, 1, 0, 0, 0, 0, 1, 0, 1,\n",
              "       0, 1, 0, 1, 0, 0, 0, 0, 0, 0, 0, 1, 0, 0, 0, 0, 0, 0, 0, 0, 0, 1,\n",
              "       0, 0, 0, 0, 0, 0, 1, 0, 1, 0, 1, 0, 0, 1, 0, 0, 0, 0, 0, 0, 1, 0,\n",
              "       0, 0, 0, 0, 0, 0, 0, 1, 0, 1, 0, 0, 0, 0, 1, 0, 0, 0, 0, 0, 1, 0,\n",
              "       1, 1])"
            ]
          },
          "metadata": {},
          "execution_count": 35
        }
      ]
    },
    {
      "cell_type": "code",
      "source": [
        "# Let's tune hyperparameters by using cross-validation model StratifiedKFold\n",
        "# Set the n_splits to an integer of 2 or greater\n",
        "# Set random_state to an integer of 0 or greater\n",
        "# https://scikit-learn.org/stable/modules/generated/sklearn.model_selection.StratifiedKFold.html\n",
        "\n",
        "cv_method = StratifiedKFold(n_splits=3, shuffle=True, random_state=42 )"
      ],
      "metadata": {
        "id": "8flPzS7IGzkz"
      },
      "execution_count": 36,
      "outputs": []
    },
    {
      "cell_type": "code",
      "source": [
        "# Cross validate Logistic Regression model\n",
        "# See documentation to determine parameters to replace ?s with\n",
        "# https://scikit-learn.org/stable/modules/generated/sklearn.model_selection.cross_val_score.html\n",
        "\n",
        "scores_RF = cross_val_score(random_forest, X_train, y_train, cv = cv_method, n_jobs = 2, scoring = \"accuracy\")\n",
        "\n",
        "print(f\"Scores(Cross validate) for Random forest model:\\n{scores_RF}\")\n",
        "print(f\"CrossValMeans: {round(scores_RF.mean(), 3)}\")\n",
        "print(f\"CrossValStandard Deviation: {round(scores_RF.std(), 3)}\")"
      ],
      "metadata": {
        "id": "rQ5ZbemvF_Wo",
        "colab": {
          "base_uri": "https://localhost:8080/"
        },
        "outputId": "248e9825-eefa-4a2e-8678-166d282506b7"
      },
      "execution_count": 37,
      "outputs": [
        {
          "output_type": "stream",
          "name": "stdout",
          "text": [
            "Scores(Cross validate) for Random forest model:\n",
            "[0.81428571 0.81428571 0.84057971]\n",
            "CrossValMeans: 0.823\n",
            "CrossValStandard Deviation: 0.012\n"
          ]
        }
      ]
    },
    {
      "cell_type": "code",
      "source": [
        "# Find what parameters are currently used by the model\n",
        "# You can read more about each parameter in sklearn's model documentation\n",
        "# https://scikit-learn.org/stable/modules/generated/sklearn.ensemble.RandomForestClassifier.html\n",
        "random_forest.get_params()"
      ],
      "metadata": {
        "id": "a3JXfoCOHSPX",
        "colab": {
          "base_uri": "https://localhost:8080/"
        },
        "outputId": "75460707-a90e-465e-f52a-19a69c132135"
      },
      "execution_count": 38,
      "outputs": [
        {
          "output_type": "execute_result",
          "data": {
            "text/plain": [
              "{'bootstrap': True,\n",
              " 'ccp_alpha': 0.0,\n",
              " 'class_weight': None,\n",
              " 'criterion': 'gini',\n",
              " 'max_depth': None,\n",
              " 'max_features': 'sqrt',\n",
              " 'max_leaf_nodes': None,\n",
              " 'max_samples': None,\n",
              " 'min_impurity_decrease': 0.0,\n",
              " 'min_samples_leaf': 1,\n",
              " 'min_samples_split': 2,\n",
              " 'min_weight_fraction_leaf': 0.0,\n",
              " 'n_estimators': 100,\n",
              " 'n_jobs': None,\n",
              " 'oob_score': False,\n",
              " 'random_state': None,\n",
              " 'verbose': 0,\n",
              " 'warm_start': False}"
            ]
          },
          "metadata": {},
          "execution_count": 38
        }
      ]
    },
    {
      "cell_type": "code",
      "source": [
        "# Set parameters for Grid Search\n",
        "# We have provided some parameters as a placeholder. Feel free to change values!\n",
        "\n",
        "params_RF = {\"min_samples_split\": [2, 6, 20],\n",
        "              \"min_samples_leaf\": [1, 4, 16],\n",
        "              \"n_estimators\" :[100,200,300,400],\n",
        "              \"criterion\": [\"gini\"]\n",
        "            }"
      ],
      "metadata": {
        "id": "gMuWEDaqF_Wo"
      },
      "execution_count": 39,
      "outputs": []
    },
    {
      "cell_type": "code",
      "source": [
        "# GridSearchCV is the process of performing hyperparameter tuning in order to determine the optimal values for a given model.\n",
        "# https://www.mygreatlearning.com/blog/gridsearchcv/\n",
        "# https://scikit-learn.org/stable/modules/generated/sklearn.model_selection.GridSearchCV.html\n",
        "\n",
        "GridSearchCV_RF = GridSearchCV(estimator=RandomForestClassifier(),\n",
        "                               param_grid=params_RF,\n",
        "                                cv=cv_method,\n",
        "                                verbose=1,\n",
        "                                n_jobs=2,\n",
        "                                scoring=\"accuracy\",\n",
        "                                return_train_score=True\n",
        "                                )"
      ],
      "metadata": {
        "id": "I1obeI2OF_Wo"
      },
      "execution_count": 40,
      "outputs": []
    },
    {
      "cell_type": "code",
      "source": [
        "# Fit model with train data and train label\n",
        "GridSearchCV_RF.fit(X_train, y_train);"
      ],
      "metadata": {
        "id": "PdejHJXIF_Wo",
        "colab": {
          "base_uri": "https://localhost:8080/"
        },
        "outputId": "2f3741bd-b9f7-467c-9721-9003e8755c06"
      },
      "execution_count": 41,
      "outputs": [
        {
          "output_type": "stream",
          "name": "stdout",
          "text": [
            "Fitting 3 folds for each of 36 candidates, totalling 108 fits\n"
          ]
        }
      ]
    },
    {
      "cell_type": "code",
      "source": [
        "# Find the best hyperparameters from the Grid Search results\n",
        "# Use the resulting parameters in the next cell for the best-scoring predictions\n",
        "\n",
        "best_estimator_RF = GridSearchCV_RF.best_estimator_\n",
        "print(f\"Best estimator for RF model:\\n{best_estimator_RF}\")\n",
        "best_params_RF = GridSearchCV_RF.best_params_\n",
        "print(f\"Best parameter values for RF model:\\n{best_params_RF}\")\n",
        "best_score_RF = GridSearchCV_RF.best_score_\n",
        "print(f\"Best score for RF model: {round(best_score_RF, 3)}\")"
      ],
      "metadata": {
        "id": "C_Jb5UGbF_Wo",
        "colab": {
          "base_uri": "https://localhost:8080/"
        },
        "outputId": "479f917b-2e8c-4b75-b5ab-48d7cb500921"
      },
      "execution_count": 42,
      "outputs": [
        {
          "output_type": "stream",
          "name": "stdout",
          "text": [
            "Best estimator for RF model:\n",
            "RandomForestClassifier(min_samples_leaf=16, min_samples_split=20,\n",
            "                       n_estimators=200)\n",
            "Best parameter values for RF model:\n",
            "{'criterion': 'gini', 'min_samples_leaf': 16, 'min_samples_split': 20, 'n_estimators': 200}\n",
            "Best score for RF model: 0.857\n"
          ]
        }
      ]
    },
    {
      "cell_type": "code",
      "source": [
        "# Replace the values with the best parameters outputted in the previous cell\n",
        "# If you used other hyperparameters, change accordingly!\n",
        "\n",
        "random_forest = RandomForestClassifier(\n",
        "criterion=\"gini\", n_estimators=300, min_samples_leaf=4, min_samples_split=20, random_state=42)"
      ],
      "metadata": {
        "id": "MLZJGv0UF_Wo"
      },
      "execution_count": 43,
      "outputs": []
    },
    {
      "cell_type": "code",
      "source": [
        "# Let's fit the model again using our train data and train labels\n",
        "random_forest_model = random_forest.fit( X_train, y_train)\n",
        "pred_random_forest = random_forest_model.predict( X_test )"
      ],
      "metadata": {
        "id": "FCUXjcDlIQv5"
      },
      "execution_count": 44,
      "outputs": []
    },
    {
      "cell_type": "code",
      "source": [
        "# Finally, print the scores using your test labels and predictions\n",
        "\n",
        "print(\"Classification Report\")\n",
        "print(classification_report( y_test, pred_random_forest ))"
      ],
      "metadata": {
        "id": "mgToF5jgF_Wo",
        "colab": {
          "base_uri": "https://localhost:8080/"
        },
        "outputId": "3f67f682-3759-4ae5-9191-82406e939152"
      },
      "execution_count": 45,
      "outputs": [
        {
          "output_type": "stream",
          "name": "stdout",
          "text": [
            "Classification Report\n",
            "              precision    recall  f1-score   support\n",
            "\n",
            "           0       0.82      0.95      0.88        61\n",
            "           1       0.84      0.55      0.67        29\n",
            "\n",
            "    accuracy                           0.82        90\n",
            "   macro avg       0.83      0.75      0.77        90\n",
            "weighted avg       0.83      0.82      0.81        90\n",
            "\n"
          ]
        }
      ]
    },
    {
      "cell_type": "code",
      "source": [
        "# Baseline model of RF with default parameters:\n",
        "\n",
        "random_forest = RandomForestClassifier()\n",
        "random_forest_model = random_forest.fit(X_train, y_train)\n",
        "print(f\"Baseline Random Forest: {round(random_forest_model.score(X_test, y_test), 3)}\")\n",
        "\n",
        "pred_random_forest = random_forest_model.predict(X_test)"
      ],
      "metadata": {
        "id": "jJPqSowYCFOq",
        "colab": {
          "base_uri": "https://localhost:8080/"
        },
        "outputId": "063c0652-79cf-4288-fb00-11f07f29b4e7"
      },
      "execution_count": 46,
      "outputs": [
        {
          "output_type": "stream",
          "name": "stdout",
          "text": [
            "Baseline Random Forest: 0.833\n"
          ]
        }
      ]
    },
    {
      "cell_type": "code",
      "source": [
        "# Tune the baseline model\n",
        "# https://scikit-learn.org/stable/modules/generated/sklearn.model_selection.StratifiedKFold.html\n",
        "cv_method = StratifiedKFold(n_splits=3, shuffle=True, random_state=42)"
      ],
      "metadata": {
        "id": "tQICloR9JH8V"
      },
      "execution_count": 47,
      "outputs": []
    },
    {
      "cell_type": "code",
      "source": [
        "# Cross validate Random forest model\n",
        "scores_RF = cross_val_score(random_forest, X_train, y_train, cv = cv_method, n_jobs = 2, scoring = \"accuracy\")\n",
        "\n",
        "print(f\"Scores(Cross validate) for Random forest model:\\n{scores_RF}\")\n",
        "print(f\"CrossValMeans: {round(scores_RF.mean(), 3)}\")\n",
        "print(f\"CrossValStandard Deviation: {round(scores_RF.std(), 3)}\")"
      ],
      "metadata": {
        "id": "UzmnV6QCCbBB",
        "colab": {
          "base_uri": "https://localhost:8080/"
        },
        "outputId": "df7a7269-27f0-4eec-f8ae-379e3530a5e2"
      },
      "execution_count": 48,
      "outputs": [
        {
          "output_type": "stream",
          "name": "stdout",
          "text": [
            "Scores(Cross validate) for Random forest model:\n",
            "[0.81428571 0.81428571 0.84057971]\n",
            "CrossValMeans: 0.823\n",
            "CrossValStandard Deviation: 0.012\n"
          ]
        }
      ]
    },
    {
      "cell_type": "code",
      "source": [
        "# Find what parameters are currently used by the model\n",
        "# You can read more about each parameter in sklearn's model documentation\n",
        "# https://scikit-learn.org/stable/modules/generated/sklearn.ensemble.RandomForestClassifier.html\n",
        "random_forest.get_params()"
      ],
      "metadata": {
        "id": "ftLvuQ_gIxhg",
        "colab": {
          "base_uri": "https://localhost:8080/"
        },
        "outputId": "c93e833d-af2a-40ab-a00a-f8329b6b2aed"
      },
      "execution_count": 49,
      "outputs": [
        {
          "output_type": "execute_result",
          "data": {
            "text/plain": [
              "{'bootstrap': True,\n",
              " 'ccp_alpha': 0.0,\n",
              " 'class_weight': None,\n",
              " 'criterion': 'gini',\n",
              " 'max_depth': None,\n",
              " 'max_features': 'sqrt',\n",
              " 'max_leaf_nodes': None,\n",
              " 'max_samples': None,\n",
              " 'min_impurity_decrease': 0.0,\n",
              " 'min_samples_leaf': 1,\n",
              " 'min_samples_split': 2,\n",
              " 'min_weight_fraction_leaf': 0.0,\n",
              " 'n_estimators': 100,\n",
              " 'n_jobs': None,\n",
              " 'oob_score': False,\n",
              " 'random_state': None,\n",
              " 'verbose': 0,\n",
              " 'warm_start': False}"
            ]
          },
          "metadata": {},
          "execution_count": 49
        }
      ]
    },
    {
      "cell_type": "code",
      "source": [
        "params_RF = {\"min_samples_split\": [2, 6, 20],\n",
        "              \"min_samples_leaf\": [1, 4, 16],\n",
        "              \"n_estimators\" :[100,200,300,400],\n",
        "              \"criterion\": [\"gini\"]\n",
        "            }"
      ],
      "metadata": {
        "id": "W_UY-jnACdDX"
      },
      "execution_count": 50,
      "outputs": []
    },
    {
      "cell_type": "code",
      "source": [
        "GridSearchCV_RF = GridSearchCV(estimator=RandomForestClassifier(),\n",
        "                                param_grid=params_RF,\n",
        "                                cv=cv_method,\n",
        "                                verbose=1,\n",
        "                                n_jobs=2,\n",
        "                                scoring=\"accuracy\",\n",
        "                                return_train_score=True\n",
        "                                )"
      ],
      "metadata": {
        "id": "HFTVevC7CePw"
      },
      "execution_count": 51,
      "outputs": []
    },
    {
      "cell_type": "code",
      "source": [
        "# Fit model with train data\n",
        "GridSearchCV_RF.fit(X_train, y_train);"
      ],
      "metadata": {
        "id": "Nh8NbNl_Cgv-",
        "colab": {
          "base_uri": "https://localhost:8080/"
        },
        "outputId": "eb1872fa-12e6-483a-f79d-c4e172b0cb17"
      },
      "execution_count": 52,
      "outputs": [
        {
          "output_type": "stream",
          "name": "stdout",
          "text": [
            "Fitting 3 folds for each of 36 candidates, totalling 108 fits\n"
          ]
        }
      ]
    },
    {
      "cell_type": "code",
      "source": [
        "best_estimator_RF = GridSearchCV_RF.best_estimator_\n",
        "print(f\"Best estimator for RF model:\\n{best_estimator_RF}\")"
      ],
      "metadata": {
        "id": "R9o9s5uBCizb",
        "colab": {
          "base_uri": "https://localhost:8080/"
        },
        "outputId": "24d4498d-5706-4c8a-dc33-aaef25ee9369"
      },
      "execution_count": 53,
      "outputs": [
        {
          "output_type": "stream",
          "name": "stdout",
          "text": [
            "Best estimator for RF model:\n",
            "RandomForestClassifier(min_samples_leaf=4, min_samples_split=6)\n"
          ]
        }
      ]
    },
    {
      "cell_type": "code",
      "source": [
        "best_params_RF = GridSearchCV_RF.best_params_\n",
        "print(f\"Best parameter values for RF model:\\n{best_params_RF}\")"
      ],
      "metadata": {
        "id": "XQUtHIBhCrSI",
        "colab": {
          "base_uri": "https://localhost:8080/"
        },
        "outputId": "45fa1f02-a4a7-4b59-c7f4-045c7a9b705f"
      },
      "execution_count": 54,
      "outputs": [
        {
          "output_type": "stream",
          "name": "stdout",
          "text": [
            "Best parameter values for RF model:\n",
            "{'criterion': 'gini', 'min_samples_leaf': 4, 'min_samples_split': 6, 'n_estimators': 100}\n"
          ]
        }
      ]
    },
    {
      "cell_type": "code",
      "source": [
        "best_score_RF = GridSearchCV_RF.best_score_\n",
        "print(f\"Best score for RF model: {round(best_score_RF, 3)}\")\n"
      ],
      "metadata": {
        "id": "c5cdeYESCrPh",
        "colab": {
          "base_uri": "https://localhost:8080/"
        },
        "outputId": "85be3b9c-2d1d-4d61-e6b7-6fba3c267189"
      },
      "execution_count": 55,
      "outputs": [
        {
          "output_type": "stream",
          "name": "stdout",
          "text": [
            "Best score for RF model: 0.857\n"
          ]
        }
      ]
    },
    {
      "cell_type": "code",
      "source": [
        "random_forest = RandomForestClassifier(criterion=\"gini\", n_estimators=300, min_samples_leaf=4, min_samples_split=20, random_state=42)\n",
        "random_forest_model = random_forest.fit(X_train, y_train)\n",
        "pred_random_forest = random_forest_model.predict(X_test)"
      ],
      "metadata": {
        "id": "6c4gBB67CrNc"
      },
      "execution_count": 56,
      "outputs": []
    },
    {
      "cell_type": "code",
      "source": [
        "print(\"Classification Report\")\n",
        "print(classification_report(y_test, pred_random_forest))"
      ],
      "metadata": {
        "id": "hcFQm3ekCrCO",
        "colab": {
          "base_uri": "https://localhost:8080/"
        },
        "outputId": "da38c6b6-cd98-4c28-ac59-c68b78c9bc46"
      },
      "execution_count": 57,
      "outputs": [
        {
          "output_type": "stream",
          "name": "stdout",
          "text": [
            "Classification Report\n",
            "              precision    recall  f1-score   support\n",
            "\n",
            "           0       0.82      0.95      0.88        61\n",
            "           1       0.84      0.55      0.67        29\n",
            "\n",
            "    accuracy                           0.82        90\n",
            "   macro avg       0.83      0.75      0.77        90\n",
            "weighted avg       0.83      0.82      0.81        90\n",
            "\n"
          ]
        }
      ]
    },
    {
      "cell_type": "markdown",
      "source": [
        "### Gradient Boosting Classifier (GBC)"
      ],
      "metadata": {
        "id": "xUlUpMawC-vl"
      }
    },
    {
      "cell_type": "markdown",
      "source": [
        "#### Guided Model Building"
      ],
      "metadata": {
        "id": "884SpkFyXQD5"
      }
    },
    {
      "cell_type": "code",
      "source": [
        "# First, build the base model with default parameters:\n",
        "# Replace the two ?s with train data X and labels y\n",
        "gbc = GradientBoostingClassifier()\n",
        "gbc_model = gbc.fit( X_train, y_train )"
      ],
      "metadata": {
        "id": "_r3sM3roXVd7"
      },
      "execution_count": 58,
      "outputs": []
    },
    {
      "cell_type": "code",
      "source": [
        "print(f\"Baseline gradient boosting classifier: {round(gbc_model.score(X_test, y_test), 3)}\")"
      ],
      "metadata": {
        "id": "i9qRkrtfXcqK",
        "colab": {
          "base_uri": "https://localhost:8080/"
        },
        "outputId": "6d14f100-9721-4b99-fc86-be53e37cd3b1"
      },
      "execution_count": 59,
      "outputs": [
        {
          "output_type": "stream",
          "name": "stdout",
          "text": [
            "Baseline gradient boosting classifier: 0.789\n"
          ]
        }
      ]
    },
    {
      "cell_type": "code",
      "source": [
        "# Run the model on test data\n",
        "pred_gbc = gbc_model.predict( X_test)\n",
        "\n",
        "# See the model\n",
        "pred_gbc"
      ],
      "metadata": {
        "id": "Fv6f189_Xck_",
        "colab": {
          "base_uri": "https://localhost:8080/"
        },
        "outputId": "7caa00ff-7f14-462b-93d6-110767710641"
      },
      "execution_count": 60,
      "outputs": [
        {
          "output_type": "execute_result",
          "data": {
            "text/plain": [
              "array([0, 0, 1, 0, 0, 0, 0, 0, 0, 0, 0, 0, 1, 0, 1, 0, 0, 0, 1, 1, 0, 1,\n",
              "       0, 1, 0, 1, 0, 0, 0, 1, 0, 0, 0, 1, 1, 0, 0, 0, 0, 0, 0, 0, 0, 1,\n",
              "       0, 1, 0, 0, 0, 1, 1, 0, 1, 0, 1, 0, 0, 1, 0, 1, 0, 0, 0, 0, 1, 0,\n",
              "       0, 0, 0, 0, 0, 0, 0, 1, 0, 1, 0, 0, 0, 1, 1, 0, 0, 0, 0, 0, 1, 0,\n",
              "       1, 0])"
            ]
          },
          "metadata": {},
          "execution_count": 60
        }
      ]
    },
    {
      "cell_type": "code",
      "source": [
        "# Let's tune hyperparameters by using cross-validation model StratifiedKFold\n",
        "# Set the n_splits to an integer of 2 or greater\n",
        "# Set random_state to an integer of 0 or greater\n",
        "# https://scikit-learn.org/stable/modules/generated/sklearn.model_selection.StratifiedKFold.html\n",
        "\n",
        "cv_method = StratifiedKFold(n_splits= 3 , shuffle=True, random_state= 42 )"
      ],
      "metadata": {
        "id": "6g6fz5r0XVeF"
      },
      "execution_count": 61,
      "outputs": []
    },
    {
      "cell_type": "code",
      "source": [
        "# Cross validate Gradient Boosting Classifier model\n",
        "# See documentation to determine parameters to replace ?s with\n",
        "# https://scikit-learn.org/stable/modules/generated/sklearn.model_selection.cross_val_score.html\n",
        "\n",
        "scores_GBC = cross_val_score(gbc, X_train, y_train, cv = cv_method, n_jobs = 2, scoring = \"accuracy\")\n",
        "\n",
        "\n",
        "print(f\"Scores(Cross validate) for Gradient Boosting Classifier model:\\n{scores_GBC}\")\n",
        "print(f\"CrossValMeans: {round(scores_GBC.mean(), 3)}\")\n",
        "print(f\"CrossValStandard Deviation: {round(scores_GBC.std(), 3)}\")"
      ],
      "metadata": {
        "id": "g7WDniCQXVeF",
        "colab": {
          "base_uri": "https://localhost:8080/"
        },
        "outputId": "ecdcbdbf-2494-4421-8cfb-982262bb551a"
      },
      "execution_count": 62,
      "outputs": [
        {
          "output_type": "stream",
          "name": "stdout",
          "text": [
            "Scores(Cross validate) for Gradient Boosting Classifier model:\n",
            "[0.81428571 0.8        0.84057971]\n",
            "CrossValMeans: 0.818\n",
            "CrossValStandard Deviation: 0.017\n"
          ]
        }
      ]
    },
    {
      "cell_type": "code",
      "source": [
        "# Find what parameters are currently used by the model\n",
        "# You can read more about each parameter in sklearn's model documentation\n",
        "# https://scikit-learn.org/stable/modules/generated/sklearn.ensemble.GradientBoostingClassifier.html\n",
        "gbc.get_params()"
      ],
      "metadata": {
        "id": "eixSOT8cX02r",
        "colab": {
          "base_uri": "https://localhost:8080/"
        },
        "outputId": "9ed0acb7-f0ca-4255-cf48-d62879c2b7bc"
      },
      "execution_count": 63,
      "outputs": [
        {
          "output_type": "execute_result",
          "data": {
            "text/plain": [
              "{'ccp_alpha': 0.0,\n",
              " 'criterion': 'friedman_mse',\n",
              " 'init': None,\n",
              " 'learning_rate': 0.1,\n",
              " 'loss': 'log_loss',\n",
              " 'max_depth': 3,\n",
              " 'max_features': None,\n",
              " 'max_leaf_nodes': None,\n",
              " 'min_impurity_decrease': 0.0,\n",
              " 'min_samples_leaf': 1,\n",
              " 'min_samples_split': 2,\n",
              " 'min_weight_fraction_leaf': 0.0,\n",
              " 'n_estimators': 100,\n",
              " 'n_iter_no_change': None,\n",
              " 'random_state': None,\n",
              " 'subsample': 1.0,\n",
              " 'tol': 0.0001,\n",
              " 'validation_fraction': 0.1,\n",
              " 'verbose': 0,\n",
              " 'warm_start': False}"
            ]
          },
          "metadata": {},
          "execution_count": 63
        }
      ]
    },
    {
      "cell_type": "code",
      "source": [
        "# Set parameters for Grid Search\n",
        "# We have provided some parameters as a placeholder. Feel free to change values!\n",
        "\n",
        "params_GBC = {\"loss\": [\"log_loss\"],\n",
        "              \"learning_rate\": [0.05, 0.075, 0.1, 0.25, 0.5, 0.75, 1],\n",
        "              \"n_estimators\": [250, 500],\n",
        "              \"max_depth\": [3, 5, 8]\n",
        "              }"
      ],
      "metadata": {
        "id": "fA_a7Z-AXVeF"
      },
      "execution_count": 64,
      "outputs": []
    },
    {
      "cell_type": "code",
      "source": [
        "# GridSearchCV is the process of performing hyperparameter tuning in order to determine the optimal values for a given model.\n",
        "# https://www.mygreatlearning.com/blog/gridsearchcv/\n",
        "# https://scikit-learn.org/stable/modules/generated/sklearn.model_selection.GridSearchCV.html\n",
        "\n",
        "GridSearchCV_GBC = GridSearchCV(estimator=GradientBoostingClassifier(),\n",
        "                                param_grid= params_GBC ,\n",
        "                                cv= cv_method ,\n",
        "                                verbose=1,\n",
        "                                n_jobs= 2 ,\n",
        "                                scoring=\"accuracy\",\n",
        "                                return_train_score=True\n",
        "                                )"
      ],
      "metadata": {
        "id": "AUdZ-zlVXVeF"
      },
      "execution_count": 65,
      "outputs": []
    },
    {
      "cell_type": "code",
      "source": [
        "# Fit model with train data and train label\n",
        "GridSearchCV_GBC.fit(X_train, y_train );"
      ],
      "metadata": {
        "id": "ZSNLznKYXVeF",
        "colab": {
          "base_uri": "https://localhost:8080/"
        },
        "outputId": "7ecf21bf-303d-42f3-b9ef-c2775a5ff06d"
      },
      "execution_count": 66,
      "outputs": [
        {
          "output_type": "stream",
          "name": "stdout",
          "text": [
            "Fitting 3 folds for each of 42 candidates, totalling 126 fits\n"
          ]
        }
      ]
    },
    {
      "cell_type": "code",
      "source": [
        "# Find the best hyperparameters from the Grid Search results\n",
        "# Use the resulting parameters in the next cell for the best-scoring predictions\n",
        "\n",
        "best_estimator_GBC = GridSearchCV_GBC.best_estimator_\n",
        "print(f\"Best estimator values for GBC model:\\n{best_estimator_GBC}\")\n",
        "\n",
        "best_params_GBC = GridSearchCV_GBC.best_params_\n",
        "print(f\"Best parameter values for GBC model:\\n{best_params_GBC}\")\n",
        "\n",
        "print(f\"Best score value foe GBC model: {round(GridSearchCV_GBC.best_score_, 3)}\")"
      ],
      "metadata": {
        "id": "WwSJ1lOEXVeF",
        "colab": {
          "base_uri": "https://localhost:8080/"
        },
        "outputId": "25a3ea1c-581a-466c-cea1-1eb55d312c66"
      },
      "execution_count": 67,
      "outputs": [
        {
          "output_type": "stream",
          "name": "stdout",
          "text": [
            "Best estimator values for GBC model:\n",
            "GradientBoostingClassifier(learning_rate=0.05, n_estimators=250)\n",
            "Best parameter values for GBC model:\n",
            "{'learning_rate': 0.05, 'loss': 'log_loss', 'max_depth': 3, 'n_estimators': 250}\n",
            "Best score value foe GBC model: 0.828\n"
          ]
        }
      ]
    },
    {
      "cell_type": "code",
      "source": [
        "# Replace the values with the best parameters outputted in the previous cell\n",
        "# If you used other hyperparameters, change accordingly!\n",
        "\n",
        "gbc = GradientBoostingClassifier(\n",
        "        criterion=\"friedman_mse\",\n",
        "        learning_rate=0.5,\n",
        "        loss=\"log_loss\",\n",
        "        max_depth=5,\n",
        "        n_estimators=500,\n",
        "        random_state=42\n",
        "        )"
      ],
      "metadata": {
        "id": "7w86voaTdbBE"
      },
      "execution_count": 68,
      "outputs": []
    },
    {
      "cell_type": "code",
      "source": [
        "# Let's fit the model again using our train data and train labels\n",
        "gbc_model = gbc.fit( X_train, y_train)\n",
        "pred_gbc = gbc_model.predict( X_test)"
      ],
      "metadata": {
        "id": "6144Tgh6XVeF"
      },
      "execution_count": 69,
      "outputs": []
    },
    {
      "cell_type": "code",
      "source": [
        "# Finally, print the scores using your test labels and predictions\n",
        "print(\"Classification Report\")\n",
        "print(classification_report(y_test, pred_gbc))"
      ],
      "metadata": {
        "id": "faDjEwf6XVeF",
        "colab": {
          "base_uri": "https://localhost:8080/"
        },
        "outputId": "55310844-0624-4d1f-eb9b-53c5bff8e8e1"
      },
      "execution_count": 70,
      "outputs": [
        {
          "output_type": "stream",
          "name": "stdout",
          "text": [
            "Classification Report\n",
            "              precision    recall  f1-score   support\n",
            "\n",
            "           0       0.82      0.84      0.83        61\n",
            "           1       0.64      0.62      0.63        29\n",
            "\n",
            "    accuracy                           0.77        90\n",
            "   macro avg       0.73      0.73      0.73        90\n",
            "weighted avg       0.76      0.77      0.77        90\n",
            "\n"
          ]
        }
      ]
    },
    {
      "cell_type": "markdown",
      "source": [
        "## Congratulations!\n",
        "You have built and tuned three different models to predict classification of Fetal health data. Discuss with your team and prepare a 1-2 page presentation on the given Google Slides file to demonstrate your best model and its performance!"
      ],
      "metadata": {
        "id": "jPcOVnATeEjO"
      }
    },
    {
      "cell_type": "markdown",
      "source": [
        "---"
      ],
      "metadata": {
        "id": "4mUVhm3keyUw"
      }
    }
  ]
}